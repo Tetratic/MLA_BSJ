{
  "nbformat": 4,
  "nbformat_minor": 0,
  "metadata": {
    "colab": {
      "provenance": [],
      "authorship_tag": "ABX9TyMJl5FEvSkmASk+2dp+0Tgy",
      "include_colab_link": true
    },
    "kernelspec": {
      "name": "python3",
      "display_name": "Python 3"
    },
    "language_info": {
      "name": "python"
    }
  },
  "cells": [
    {
      "cell_type": "markdown",
      "metadata": {
        "id": "view-in-github",
        "colab_type": "text"
      },
      "source": [
        "<a href=\"https://colab.research.google.com/github/Tetratic/MLA_BSJ/blob/main/MLA5_BSJ.ipynb\" target=\"_parent\"><img src=\"https://colab.research.google.com/assets/colab-badge.svg\" alt=\"Open In Colab\"/></a>"
      ]
    },
    {
      "cell_type": "markdown",
      "source": [
        "# Machine Learning Assignment 5\n",
        "### Brian Johnston\n",
        "### CS430-ON\n",
        "### Machine Learning in the Cloud"
      ],
      "metadata": {
        "id": "6eG-wIMnQfff"
      }
    },
    {
      "cell_type": "markdown",
      "source": [
        "# General Imports"
      ],
      "metadata": {
        "id": "dAnF580vf13j"
      }
    },
    {
      "cell_type": "code",
      "source": [
        "import pandas as pd\n",
        "import numpy as np\n",
        "import matplotlib.pyplot as plt\n",
        "import seaborn as sns\n",
        "%matplotlib inline"
      ],
      "metadata": {
        "id": "W8NjIJINQhxI"
      },
      "execution_count": 2,
      "outputs": []
    },
    {
      "cell_type": "code",
      "source": [
        "from google.colab import drive\n",
        "drive.mount('/content/gdrive')"
      ],
      "metadata": {
        "colab": {
          "base_uri": "https://localhost:8080/"
        },
        "id": "a0pY7v3OQnyO",
        "outputId": "295eca6e-a17a-4c18-c799-3808fb90d8f9"
      },
      "execution_count": 3,
      "outputs": [
        {
          "output_type": "stream",
          "name": "stdout",
          "text": [
            "Mounted at /content/gdrive\n"
          ]
        }
      ]
    },
    {
      "cell_type": "markdown",
      "source": [
        "# Imports for Specific Modules"
      ],
      "metadata": {
        "id": "VEFY5BBGQzaJ"
      }
    },
    {
      "cell_type": "code",
      "source": [
        "from sklearn.model_selection import train_test_split as tts\n",
        "from sklearn.pipeline import Pipeline as plne\n",
        "from sklearn.compose import ColumnTransformer as ctrans\n",
        "from sklearn.preprocessing import MinMaxScaler as mmscal\n",
        "from sklearn.preprocessing import OneHotEncoder as ohe\n",
        "\n",
        "from sklearn.metrics import confusion_matrix, ConfusionMatrixDisplay\n",
        "from sklearn.metrics import precision_score, recall_score, f1_score, classification_report\n",
        "from sklearn.metrics import roc_curve\n",
        "from sklearn.metrics import roc_auc_score\n",
        "from sklearn.metrics import mean_squared_error, r2_score, mean_absolute_error\n",
        "\n",
        "from sklearn.ensemble import VotingClassifier\n",
        "from sklearn.ensemble import BaggingClassifier\n",
        "from sklearn.ensemble import RandomForestClassifier\n",
        "from sklearn.ensemble import AdaBoostClassifier\n",
        "\n",
        "from sklearn.neighbors import KNeighborsClassifier\n",
        "from sklearn.linear_model import LogisticRegression\n",
        "from sklearn.svm import SVC\n",
        "from sklearn.tree import DecisionTreeClassifier"
      ],
      "metadata": {
        "id": "ib2daugWQo1-"
      },
      "execution_count": 31,
      "outputs": []
    },
    {
      "cell_type": "markdown",
      "source": [
        "#Acquire Data"
      ],
      "metadata": {
        "id": "AgOaMd9AQ5aH"
      }
    },
    {
      "cell_type": "code",
      "source": [
        "landsat_train = pd.read_csv('/content/gdrive/MyDrive/MLA_Data/landsat_train.csv')\n",
        "landsat_test = pd.read_csv('/content/gdrive/MyDrive/MLA_Data/landsat_test.csv')"
      ],
      "metadata": {
        "id": "OsGVkaiERKHq"
      },
      "execution_count": 13,
      "outputs": []
    },
    {
      "cell_type": "markdown",
      "source": [
        "# Statistics and Visual Exploration"
      ],
      "metadata": {
        "id": "3309161GRZFy"
      }
    },
    {
      "cell_type": "code",
      "source": [
        "land_types_train = pd.Series(landsat_train['land_type'].groupby(landsat_train['land_type']).count())\n",
        "land_types_train.plot(kind='bar')"
      ],
      "metadata": {
        "colab": {
          "base_uri": "https://localhost:8080/",
          "height": 461
        },
        "id": "asUh5UdrBqy6",
        "outputId": "8cfd18a7-4212-4a48-f487-ec194ebde3e5"
      },
      "execution_count": 11,
      "outputs": [
        {
          "output_type": "execute_result",
          "data": {
            "text/plain": [
              "<Axes: xlabel='land_type'>"
            ]
          },
          "metadata": {},
          "execution_count": 11
        },
        {
          "output_type": "display_data",
          "data": {
            "text/plain": [
              "<Figure size 640x480 with 1 Axes>"
            ],
            "image/png": "[encoded data removed]"
          },
          "metadata": {}
        }
      ]
    },
    {
      "cell_type": "code",
      "source": [
        "land_types_test = pd.Series(landsat_test['land_type'].groupby(landsat_test['land_type']).count())\n",
        "land_types_test.plot(kind='bar')"
      ],
      "metadata": {
        "colab": {
          "base_uri": "https://localhost:8080/",
          "height": 461
        },
        "id": "2O_ClXAzBr5j",
        "outputId": "c23060ba-958b-46fb-fc33-d62bc61bc25b"
      },
      "execution_count": 14,
      "outputs": [
        {
          "output_type": "execute_result",
          "data": {
            "text/plain": [
              "<Axes: xlabel='land_type'>"
            ]
          },
          "metadata": {},
          "execution_count": 14
        },
        {
          "output_type": "display_data",
          "data": {
            "text/plain": [
              "<Figure size 640x480 with 1 Axes>"
            ],
            "image/png": "[encoded data removed]"
          },
          "metadata": {}
        }
      ]
    },
    {
      "cell_type": "markdown",
      "source": [
        "# Splitting Data into Train/Test"
      ],
      "metadata": {
        "id": "xczG4aAIWTSw"
      }
    },
    {
      "cell_type": "code",
      "source": [
        "X_train = landsat_train\n",
        "X_train = X_train.drop(columns=['land_type'])\n",
        "X_test = landsat_test\n",
        "X_test = X_test.drop(columns=['land_type'])"
      ],
      "metadata": {
        "id": "_FtZ_wV3ECYZ"
      },
      "execution_count": 17,
      "outputs": []
    },
    {
      "cell_type": "code",
      "source": [
        "y_train = landsat_train['land_type']\n",
        "y_test = landsat_test['land_type']"
      ],
      "metadata": {
        "id": "z5IJgex5Eazi"
      },
      "execution_count": 18,
      "outputs": []
    },
    {
      "cell_type": "markdown",
      "source": [
        "# Building the Pipeline"
      ],
      "metadata": {
        "id": "1ppzH4QsbSMZ"
      }
    },
    {
      "cell_type": "code",
      "source": [
        "nums = X_train.columns\n",
        "cats = ['land_type']"
      ],
      "metadata": {
        "id": "RZW-aaQPXNMo"
      },
      "execution_count": 21,
      "outputs": []
    },
    {
      "cell_type": "code",
      "source": [
        "col_trans = ctrans(transformers=[('num',mmscal(),nums)], remainder='passthrough')"
      ],
      "metadata": {
        "id": "DKiGM7FmXj61"
      },
      "execution_count": 23,
      "outputs": []
    },
    {
      "cell_type": "code",
      "source": [
        "pipeline = plne([('transform',col_trans),('RandomForestClassifier',RandomForestClassifier())])"
      ],
      "metadata": {
        "id": "br4nogk6XoMl"
      },
      "execution_count": 37,
      "outputs": []
    },
    {
      "cell_type": "code",
      "source": [
        "from sklearn import set_config\n",
        "set_config(display='diagram')\n",
        "pipeline"
      ],
      "metadata": {
        "colab": {
          "base_uri": "https://localhost:8080/",
          "height": 194
        },
        "id": "a7rTxHRNXtmU",
        "outputId": "47122910-f807-4870-cb55-31e794b87ede"
      },
      "execution_count": 38,
      "outputs": [
        {
          "output_type": "execute_result",
          "data": {
            "text/plain": [
              "Pipeline(steps=[('transform',\n",
              "                 ColumnTransformer(remainder='passthrough',\n",
              "                                   transformers=[('num', MinMaxScaler(),\n",
              "                                                  Index(['top_left_r', 'top_left_g', 'top_left_infra1', 'top_left_infra2',\n",
              "       'top_middle_r', 'top_middle_g', 'top_middle_infra1',\n",
              "       'top_middle_infra2', 'top_right_r', 'top_right_g', 'top_right_infra1',\n",
              "       'top_right_infra2', 'middle_left_r', 'middle_left_g',\n",
              "       'middl...\n",
              "       'middle_right_r', 'middle_right_g', 'middle_right_infra1',\n",
              "       'middle_right_infra2', 'bottom_left_r', 'bottom_left_g',\n",
              "       'bottom_left_infra1', 'bottom_left_infra2', 'bottom_middle_r',\n",
              "       'bottom_middle_g', 'bottom_middle_infra1', 'bottom_middle_infra2',\n",
              "       'bottom_right_r', 'bottom_right_g', 'bottom_right_infra1',\n",
              "       'bottom_right_infra2'],\n",
              "      dtype='object'))])),\n",
              "                ('RandomForestClassifier', RandomForestClassifier())])"
            ],
            "text/html": [
              "<style>#sk-container-id-3 {color: black;background-color: white;}#sk-container-id-3 pre{padding: 0;}#sk-container-id-3 div.sk-toggleable {background-color: white;}#sk-container-id-3 label.sk-toggleable__label {cursor: pointer;display: block;width: 100%;margin-bottom: 0;padding: 0.3em;box-sizing: border-box;text-align: center;}#sk-container-id-3 label.sk-toggleable__label-arrow:before {content: \"▸\";float: left;margin-right: 0.25em;color: #696969;}#sk-container-id-3 label.sk-toggleable__label-arrow:hover:before {color: black;}#sk-container-id-3 div.sk-estimator:hover label.sk-toggleable__label-arrow:before {color: black;}#sk-container-id-3 div.sk-toggleable__content {max-height: 0;max-width: 0;overflow: hidden;text-align: left;background-color: #f0f8ff;}#sk-container-id-3 div.sk-toggleable__content pre {margin: 0.2em;color: black;border-radius: 0.25em;background-color: #f0f8ff;}#sk-container-id-3 input.sk-toggleable__control:checked~div.sk-toggleable__content {max-height: 200px;max-width: 100%;overflow: auto;}#sk-container-id-3 input.sk-toggleable__control:checked~label.sk-toggleable__label-arrow:before {content: \"▾\";}#sk-container-id-3 div.sk-estimator input.sk-toggleable__control:checked~label.sk-toggleable__label {background-color: #d4ebff;}#sk-container-id-3 div.sk-label input.sk-toggleable__control:checked~label.sk-toggleable__label {background-color: #d4ebff;}#sk-container-id-3 input.sk-hidden--visually {border: 0;clip: rect(1px 1px 1px 1px);clip: rect(1px, 1px, 1px, 1px);height: 1px;margin: -1px;overflow: hidden;padding: 0;position: absolute;width: 1px;}#sk-container-id-3 div.sk-estimator {font-family: monospace;background-color: #f0f8ff;border: 1px dotted black;border-radius: 0.25em;box-sizing: border-box;margin-bottom: 0.5em;}#sk-container-id-3 div.sk-estimator:hover {background-color: #d4ebff;}#sk-container-id-3 div.sk-parallel-item::after {content: \"\";width: 100%;border-bottom: 1px solid gray;flex-grow: 1;}#sk-container-id-3 div.sk-label:hover label.sk-toggleable__label {background-color: #d4ebff;}#sk-container-id-3 div.sk-serial::before {content: \"\";position: absolute;border-left: 1px solid gray;box-sizing: border-box;top: 0;bottom: 0;left: 50%;z-index: 0;}#sk-container-id-3 div.sk-serial {display: flex;flex-direction: column;align-items: center;background-color: white;padding-right: 0.2em;padding-left: 0.2em;position: relative;}#sk-container-id-3 div.sk-item {position: relative;z-index: 1;}#sk-container-id-3 div.sk-parallel {display: flex;align-items: stretch;justify-content: center;background-color: white;position: relative;}#sk-container-id-3 div.sk-item::before, #sk-container-id-3 div.sk-parallel-item::before {content: \"\";position: absolute;border-left: 1px solid gray;box-sizing: border-box;top: 0;bottom: 0;left: 50%;z-index: -1;}#sk-container-id-3 div.sk-parallel-item {display: flex;flex-direction: column;z-index: 1;position: relative;background-color: white;}#sk-container-id-3 div.sk-parallel-item:first-child::after {align-self: flex-end;width: 50%;}#sk-container-id-3 div.sk-parallel-item:last-child::after {align-self: flex-start;width: 50%;}#sk-container-id-3 div.sk-parallel-item:only-child::after {width: 0;}#sk-container-id-3 div.sk-dashed-wrapped {border: 1px dashed gray;margin: 0 0.4em 0.5em 0.4em;box-sizing: border-box;padding-bottom: 0.4em;background-color: white;}#sk-container-id-3 div.sk-label label {font-family: monospace;font-weight: bold;display: inline-block;line-height: 1.2em;}#sk-container-id-3 div.sk-label-container {text-align: center;}#sk-container-id-3 div.sk-container {/* jupyter's `normalize.less` sets `[hidden] { display: none; }` but bootstrap.min.css set `[hidden] { display: none !important; }` so we also need the `!important` here to be able to override the default hidden behavior on the sphinx rendered scikit-learn.org. See: https://github.com/scikit-learn/scikit-learn/issues/21755 */display: inline-block !important;position: relative;}#sk-container-id-3 div.sk-text-repr-fallback {display: none;}</style><div id=\"sk-container-id-3\" class=\"sk-top-container\"><div class=\"sk-text-repr-fallback\"><pre>Pipeline(steps=[(&#x27;transform&#x27;,\n",
              "                 ColumnTransformer(remainder=&#x27;passthrough&#x27;,\n",
              "                                   transformers=[(&#x27;num&#x27;, MinMaxScaler(),\n",
              "                                                  Index([&#x27;top_left_r&#x27;, &#x27;top_left_g&#x27;, &#x27;top_left_infra1&#x27;, &#x27;top_left_infra2&#x27;,\n",
              "       &#x27;top_middle_r&#x27;, &#x27;top_middle_g&#x27;, &#x27;top_middle_infra1&#x27;,\n",
              "       &#x27;top_middle_infra2&#x27;, &#x27;top_right_r&#x27;, &#x27;top_right_g&#x27;, &#x27;top_right_infra1&#x27;,\n",
              "       &#x27;top_right_infra2&#x27;, &#x27;middle_left_r&#x27;, &#x27;middle_left_g&#x27;,\n",
              "       &#x27;middl...\n",
              "       &#x27;middle_right_r&#x27;, &#x27;middle_right_g&#x27;, &#x27;middle_right_infra1&#x27;,\n",
              "       &#x27;middle_right_infra2&#x27;, &#x27;bottom_left_r&#x27;, &#x27;bottom_left_g&#x27;,\n",
              "       &#x27;bottom_left_infra1&#x27;, &#x27;bottom_left_infra2&#x27;, &#x27;bottom_middle_r&#x27;,\n",
              "       &#x27;bottom_middle_g&#x27;, &#x27;bottom_middle_infra1&#x27;, &#x27;bottom_middle_infra2&#x27;,\n",
              "       &#x27;bottom_right_r&#x27;, &#x27;bottom_right_g&#x27;, &#x27;bottom_right_infra1&#x27;,\n",
              "       &#x27;bottom_right_infra2&#x27;],\n",
              "      dtype=&#x27;object&#x27;))])),\n",
              "                (&#x27;RandomForestClassifier&#x27;, RandomForestClassifier())])</pre><b>In a Jupyter environment, please rerun this cell to show the HTML representation or trust the notebook. <br />On GitHub, the HTML representation is unable to render, please try loading this page with nbviewer.org.</b></div><div class=\"sk-container\" hidden><div class=\"sk-item sk-dashed-wrapped\"><div class=\"sk-label-container\"><div class=\"sk-label sk-toggleable\"><input class=\"sk-toggleable__control sk-hidden--visually\" id=\"sk-estimator-id-15\" type=\"checkbox\" ><label for=\"sk-estimator-id-15\" class=\"sk-toggleable__label sk-toggleable__label-arrow\">Pipeline</label><div class=\"sk-toggleable__content\"><pre>Pipeline(steps=[(&#x27;transform&#x27;,\n",
              "                 ColumnTransformer(remainder=&#x27;passthrough&#x27;,\n",
              "                                   transformers=[(&#x27;num&#x27;, MinMaxScaler(),\n",
              "                                                  Index([&#x27;top_left_r&#x27;, &#x27;top_left_g&#x27;, &#x27;top_left_infra1&#x27;, &#x27;top_left_infra2&#x27;,\n",
              "       &#x27;top_middle_r&#x27;, &#x27;top_middle_g&#x27;, &#x27;top_middle_infra1&#x27;,\n",
              "       &#x27;top_middle_infra2&#x27;, &#x27;top_right_r&#x27;, &#x27;top_right_g&#x27;, &#x27;top_right_infra1&#x27;,\n",
              "       &#x27;top_right_infra2&#x27;, &#x27;middle_left_r&#x27;, &#x27;middle_left_g&#x27;,\n",
              "       &#x27;middl...\n",
              "       &#x27;middle_right_r&#x27;, &#x27;middle_right_g&#x27;, &#x27;middle_right_infra1&#x27;,\n",
              "       &#x27;middle_right_infra2&#x27;, &#x27;bottom_left_r&#x27;, &#x27;bottom_left_g&#x27;,\n",
              "       &#x27;bottom_left_infra1&#x27;, &#x27;bottom_left_infra2&#x27;, &#x27;bottom_middle_r&#x27;,\n",
              "       &#x27;bottom_middle_g&#x27;, &#x27;bottom_middle_infra1&#x27;, &#x27;bottom_middle_infra2&#x27;,\n",
              "       &#x27;bottom_right_r&#x27;, &#x27;bottom_right_g&#x27;, &#x27;bottom_right_infra1&#x27;,\n",
              "       &#x27;bottom_right_infra2&#x27;],\n",
              "      dtype=&#x27;object&#x27;))])),\n",
              "                (&#x27;RandomForestClassifier&#x27;, RandomForestClassifier())])</pre></div></div></div><div class=\"sk-serial\"><div class=\"sk-item sk-dashed-wrapped\"><div class=\"sk-label-container\"><div class=\"sk-label sk-toggleable\"><input class=\"sk-toggleable__control sk-hidden--visually\" id=\"sk-estimator-id-16\" type=\"checkbox\" ><label for=\"sk-estimator-id-16\" class=\"sk-toggleable__label sk-toggleable__label-arrow\">transform: ColumnTransformer</label><div class=\"sk-toggleable__content\"><pre>ColumnTransformer(remainder=&#x27;passthrough&#x27;,\n",
              "                  transformers=[(&#x27;num&#x27;, MinMaxScaler(),\n",
              "                                 Index([&#x27;top_left_r&#x27;, &#x27;top_left_g&#x27;, &#x27;top_left_infra1&#x27;, &#x27;top_left_infra2&#x27;,\n",
              "       &#x27;top_middle_r&#x27;, &#x27;top_middle_g&#x27;, &#x27;top_middle_infra1&#x27;,\n",
              "       &#x27;top_middle_infra2&#x27;, &#x27;top_right_r&#x27;, &#x27;top_right_g&#x27;, &#x27;top_right_infra1&#x27;,\n",
              "       &#x27;top_right_infra2&#x27;, &#x27;middle_left_r&#x27;, &#x27;middle_left_g&#x27;,\n",
              "       &#x27;middle_left_infra1&#x27;, &#x27;middle_left_i...\n",
              "       &#x27;central_pixel_g&#x27;, &#x27;central_pixel_infra1&#x27;, &#x27;central_pixel_infra2&#x27;,\n",
              "       &#x27;middle_right_r&#x27;, &#x27;middle_right_g&#x27;, &#x27;middle_right_infra1&#x27;,\n",
              "       &#x27;middle_right_infra2&#x27;, &#x27;bottom_left_r&#x27;, &#x27;bottom_left_g&#x27;,\n",
              "       &#x27;bottom_left_infra1&#x27;, &#x27;bottom_left_infra2&#x27;, &#x27;bottom_middle_r&#x27;,\n",
              "       &#x27;bottom_middle_g&#x27;, &#x27;bottom_middle_infra1&#x27;, &#x27;bottom_middle_infra2&#x27;,\n",
              "       &#x27;bottom_right_r&#x27;, &#x27;bottom_right_g&#x27;, &#x27;bottom_right_infra1&#x27;,\n",
              "       &#x27;bottom_right_infra2&#x27;],\n",
              "      dtype=&#x27;object&#x27;))])</pre></div></div></div><div class=\"sk-parallel\"><div class=\"sk-parallel-item\"><div class=\"sk-item\"><div class=\"sk-label-container\"><div class=\"sk-label sk-toggleable\"><input class=\"sk-toggleable__control sk-hidden--visually\" id=\"sk-estimator-id-17\" type=\"checkbox\" ><label for=\"sk-estimator-id-17\" class=\"sk-toggleable__label sk-toggleable__label-arrow\">num</label><div class=\"sk-toggleable__content\"><pre>Index([&#x27;top_left_r&#x27;, &#x27;top_left_g&#x27;, &#x27;top_left_infra1&#x27;, &#x27;top_left_infra2&#x27;,\n",
              "       &#x27;top_middle_r&#x27;, &#x27;top_middle_g&#x27;, &#x27;top_middle_infra1&#x27;,\n",
              "       &#x27;top_middle_infra2&#x27;, &#x27;top_right_r&#x27;, &#x27;top_right_g&#x27;, &#x27;top_right_infra1&#x27;,\n",
              "       &#x27;top_right_infra2&#x27;, &#x27;middle_left_r&#x27;, &#x27;middle_left_g&#x27;,\n",
              "       &#x27;middle_left_infra1&#x27;, &#x27;middle_left_infra2&#x27;, &#x27;central_pixel_r&#x27;,\n",
              "       &#x27;central_pixel_g&#x27;, &#x27;central_pixel_infra1&#x27;, &#x27;central_pixel_infra2&#x27;,\n",
              "       &#x27;middle_right_r&#x27;, &#x27;middle_right_g&#x27;, &#x27;middle_right_infra1&#x27;,\n",
              "       &#x27;middle_right_infra2&#x27;, &#x27;bottom_left_r&#x27;, &#x27;bottom_left_g&#x27;,\n",
              "       &#x27;bottom_left_infra1&#x27;, &#x27;bottom_left_infra2&#x27;, &#x27;bottom_middle_r&#x27;,\n",
              "       &#x27;bottom_middle_g&#x27;, &#x27;bottom_middle_infra1&#x27;, &#x27;bottom_middle_infra2&#x27;,\n",
              "       &#x27;bottom_right_r&#x27;, &#x27;bottom_right_g&#x27;, &#x27;bottom_right_infra1&#x27;,\n",
              "       &#x27;bottom_right_infra2&#x27;],\n",
              "      dtype=&#x27;object&#x27;)</pre></div></div></div><div class=\"sk-serial\"><div class=\"sk-item\"><div class=\"sk-estimator sk-toggleable\"><input class=\"sk-toggleable__control sk-hidden--visually\" id=\"sk-estimator-id-18\" type=\"checkbox\" ><label for=\"sk-estimator-id-18\" class=\"sk-toggleable__label sk-toggleable__label-arrow\">MinMaxScaler</label><div class=\"sk-toggleable__content\"><pre>MinMaxScaler()</pre></div></div></div></div></div></div><div class=\"sk-parallel-item\"><div class=\"sk-item\"><div class=\"sk-label-container\"><div class=\"sk-label sk-toggleable\"><input class=\"sk-toggleable__control sk-hidden--visually\" id=\"sk-estimator-id-19\" type=\"checkbox\" ><label for=\"sk-estimator-id-19\" class=\"sk-toggleable__label sk-toggleable__label-arrow\">remainder</label><div class=\"sk-toggleable__content\"><pre>[]</pre></div></div></div><div class=\"sk-serial\"><div class=\"sk-item\"><div class=\"sk-estimator sk-toggleable\"><input class=\"sk-toggleable__control sk-hidden--visually\" id=\"sk-estimator-id-20\" type=\"checkbox\" ><label for=\"sk-estimator-id-20\" class=\"sk-toggleable__label sk-toggleable__label-arrow\">passthrough</label><div class=\"sk-toggleable__content\"><pre>passthrough</pre></div></div></div></div></div></div></div></div><div class=\"sk-item\"><div class=\"sk-estimator sk-toggleable\"><input class=\"sk-toggleable__control sk-hidden--visually\" id=\"sk-estimator-id-21\" type=\"checkbox\" ><label for=\"sk-estimator-id-21\" class=\"sk-toggleable__label sk-toggleable__label-arrow\">RandomForestClassifier</label><div class=\"sk-toggleable__content\"><pre>RandomForestClassifier()</pre></div></div></div></div></div></div></div>"
            ]
          },
          "metadata": {},
          "execution_count": 38
        }
      ]
    },
    {
      "cell_type": "markdown",
      "source": [
        "# Executing the Model"
      ],
      "metadata": {
        "id": "3skbZSBwbWtw"
      }
    },
    {
      "cell_type": "code",
      "source": [
        "pipeline.fit(X_train,y_train)"
      ],
      "metadata": {
        "colab": {
          "base_uri": "https://localhost:8080/",
          "height": 194
        },
        "id": "Kz6ieJ2VbNBM",
        "outputId": "183ce7f9-2183-4796-8045-8b6a6b72915a"
      },
      "execution_count": 26,
      "outputs": [
        {
          "output_type": "execute_result",
          "data": {
            "text/plain": [
              "Pipeline(steps=[('transform',\n",
              "                 ColumnTransformer(remainder='passthrough',\n",
              "                                   transformers=[('num', MinMaxScaler(),\n",
              "                                                  Index(['top_left_r', 'top_left_g', 'top_left_infra1', 'top_left_infra2',\n",
              "       'top_middle_r', 'top_middle_g', 'top_middle_infra1',\n",
              "       'top_middle_infra2', 'top_right_r', 'top_right_g', 'top_right_infra1',\n",
              "       'top_right_infra2', 'middle_left_r', 'middle_left_g',\n",
              "       'middl...\n",
              "       'middle_right_r', 'middle_right_g', 'middle_right_infra1',\n",
              "       'middle_right_infra2', 'bottom_left_r', 'bottom_left_g',\n",
              "       'bottom_left_infra1', 'bottom_left_infra2', 'bottom_middle_r',\n",
              "       'bottom_middle_g', 'bottom_middle_infra1', 'bottom_middle_infra2',\n",
              "       'bottom_right_r', 'bottom_right_g', 'bottom_right_infra1',\n",
              "       'bottom_right_infra2'],\n",
              "      dtype='object'))])),\n",
              "                ('SVC', RandomForestClassifier())])"
            ],
            "text/html": [
              "<style>#sk-container-id-2 {color: black;background-color: white;}#sk-container-id-2 pre{padding: 0;}#sk-container-id-2 div.sk-toggleable {background-color: white;}#sk-container-id-2 label.sk-toggleable__label {cursor: pointer;display: block;width: 100%;margin-bottom: 0;padding: 0.3em;box-sizing: border-box;text-align: center;}#sk-container-id-2 label.sk-toggleable__label-arrow:before {content: \"▸\";float: left;margin-right: 0.25em;color: #696969;}#sk-container-id-2 label.sk-toggleable__label-arrow:hover:before {color: black;}#sk-container-id-2 div.sk-estimator:hover label.sk-toggleable__label-arrow:before {color: black;}#sk-container-id-2 div.sk-toggleable__content {max-height: 0;max-width: 0;overflow: hidden;text-align: left;background-color: #f0f8ff;}#sk-container-id-2 div.sk-toggleable__content pre {margin: 0.2em;color: black;border-radius: 0.25em;background-color: #f0f8ff;}#sk-container-id-2 input.sk-toggleable__control:checked~div.sk-toggleable__content {max-height: 200px;max-width: 100%;overflow: auto;}#sk-container-id-2 input.sk-toggleable__control:checked~label.sk-toggleable__label-arrow:before {content: \"▾\";}#sk-container-id-2 div.sk-estimator input.sk-toggleable__control:checked~label.sk-toggleable__label {background-color: #d4ebff;}#sk-container-id-2 div.sk-label input.sk-toggleable__control:checked~label.sk-toggleable__label {background-color: #d4ebff;}#sk-container-id-2 input.sk-hidden--visually {border: 0;clip: rect(1px 1px 1px 1px);clip: rect(1px, 1px, 1px, 1px);height: 1px;margin: -1px;overflow: hidden;padding: 0;position: absolute;width: 1px;}#sk-container-id-2 div.sk-estimator {font-family: monospace;background-color: #f0f8ff;border: 1px dotted black;border-radius: 0.25em;box-sizing: border-box;margin-bottom: 0.5em;}#sk-container-id-2 div.sk-estimator:hover {background-color: #d4ebff;}#sk-container-id-2 div.sk-parallel-item::after {content: \"\";width: 100%;border-bottom: 1px solid gray;flex-grow: 1;}#sk-container-id-2 div.sk-label:hover label.sk-toggleable__label {background-color: #d4ebff;}#sk-container-id-2 div.sk-serial::before {content: \"\";position: absolute;border-left: 1px solid gray;box-sizing: border-box;top: 0;bottom: 0;left: 50%;z-index: 0;}#sk-container-id-2 div.sk-serial {display: flex;flex-direction: column;align-items: center;background-color: white;padding-right: 0.2em;padding-left: 0.2em;position: relative;}#sk-container-id-2 div.sk-item {position: relative;z-index: 1;}#sk-container-id-2 div.sk-parallel {display: flex;align-items: stretch;justify-content: center;background-color: white;position: relative;}#sk-container-id-2 div.sk-item::before, #sk-container-id-2 div.sk-parallel-item::before {content: \"\";position: absolute;border-left: 1px solid gray;box-sizing: border-box;top: 0;bottom: 0;left: 50%;z-index: -1;}#sk-container-id-2 div.sk-parallel-item {display: flex;flex-direction: column;z-index: 1;position: relative;background-color: white;}#sk-container-id-2 div.sk-parallel-item:first-child::after {align-self: flex-end;width: 50%;}#sk-container-id-2 div.sk-parallel-item:last-child::after {align-self: flex-start;width: 50%;}#sk-container-id-2 div.sk-parallel-item:only-child::after {width: 0;}#sk-container-id-2 div.sk-dashed-wrapped {border: 1px dashed gray;margin: 0 0.4em 0.5em 0.4em;box-sizing: border-box;padding-bottom: 0.4em;background-color: white;}#sk-container-id-2 div.sk-label label {font-family: monospace;font-weight: bold;display: inline-block;line-height: 1.2em;}#sk-container-id-2 div.sk-label-container {text-align: center;}#sk-container-id-2 div.sk-container {/* jupyter's `normalize.less` sets `[hidden] { display: none; }` but bootstrap.min.css set `[hidden] { display: none !important; }` so we also need the `!important` here to be able to override the default hidden behavior on the sphinx rendered scikit-learn.org. See: https://github.com/scikit-learn/scikit-learn/issues/21755 */display: inline-block !important;position: relative;}#sk-container-id-2 div.sk-text-repr-fallback {display: none;}</style><div id=\"sk-container-id-2\" class=\"sk-top-container\"><div class=\"sk-text-repr-fallback\"><pre>Pipeline(steps=[(&#x27;transform&#x27;,\n",
              "                 ColumnTransformer(remainder=&#x27;passthrough&#x27;,\n",
              "                                   transformers=[(&#x27;num&#x27;, MinMaxScaler(),\n",
              "                                                  Index([&#x27;top_left_r&#x27;, &#x27;top_left_g&#x27;, &#x27;top_left_infra1&#x27;, &#x27;top_left_infra2&#x27;,\n",
              "       &#x27;top_middle_r&#x27;, &#x27;top_middle_g&#x27;, &#x27;top_middle_infra1&#x27;,\n",
              "       &#x27;top_middle_infra2&#x27;, &#x27;top_right_r&#x27;, &#x27;top_right_g&#x27;, &#x27;top_right_infra1&#x27;,\n",
              "       &#x27;top_right_infra2&#x27;, &#x27;middle_left_r&#x27;, &#x27;middle_left_g&#x27;,\n",
              "       &#x27;middl...\n",
              "       &#x27;middle_right_r&#x27;, &#x27;middle_right_g&#x27;, &#x27;middle_right_infra1&#x27;,\n",
              "       &#x27;middle_right_infra2&#x27;, &#x27;bottom_left_r&#x27;, &#x27;bottom_left_g&#x27;,\n",
              "       &#x27;bottom_left_infra1&#x27;, &#x27;bottom_left_infra2&#x27;, &#x27;bottom_middle_r&#x27;,\n",
              "       &#x27;bottom_middle_g&#x27;, &#x27;bottom_middle_infra1&#x27;, &#x27;bottom_middle_infra2&#x27;,\n",
              "       &#x27;bottom_right_r&#x27;, &#x27;bottom_right_g&#x27;, &#x27;bottom_right_infra1&#x27;,\n",
              "       &#x27;bottom_right_infra2&#x27;],\n",
              "      dtype=&#x27;object&#x27;))])),\n",
              "                (&#x27;SVC&#x27;, RandomForestClassifier())])</pre><b>In a Jupyter environment, please rerun this cell to show the HTML representation or trust the notebook. <br />On GitHub, the HTML representation is unable to render, please try loading this page with nbviewer.org.</b></div><div class=\"sk-container\" hidden><div class=\"sk-item sk-dashed-wrapped\"><div class=\"sk-label-container\"><div class=\"sk-label sk-toggleable\"><input class=\"sk-toggleable__control sk-hidden--visually\" id=\"sk-estimator-id-8\" type=\"checkbox\" ><label for=\"sk-estimator-id-8\" class=\"sk-toggleable__label sk-toggleable__label-arrow\">Pipeline</label><div class=\"sk-toggleable__content\"><pre>Pipeline(steps=[(&#x27;transform&#x27;,\n",
              "                 ColumnTransformer(remainder=&#x27;passthrough&#x27;,\n",
              "                                   transformers=[(&#x27;num&#x27;, MinMaxScaler(),\n",
              "                                                  Index([&#x27;top_left_r&#x27;, &#x27;top_left_g&#x27;, &#x27;top_left_infra1&#x27;, &#x27;top_left_infra2&#x27;,\n",
              "       &#x27;top_middle_r&#x27;, &#x27;top_middle_g&#x27;, &#x27;top_middle_infra1&#x27;,\n",
              "       &#x27;top_middle_infra2&#x27;, &#x27;top_right_r&#x27;, &#x27;top_right_g&#x27;, &#x27;top_right_infra1&#x27;,\n",
              "       &#x27;top_right_infra2&#x27;, &#x27;middle_left_r&#x27;, &#x27;middle_left_g&#x27;,\n",
              "       &#x27;middl...\n",
              "       &#x27;middle_right_r&#x27;, &#x27;middle_right_g&#x27;, &#x27;middle_right_infra1&#x27;,\n",
              "       &#x27;middle_right_infra2&#x27;, &#x27;bottom_left_r&#x27;, &#x27;bottom_left_g&#x27;,\n",
              "       &#x27;bottom_left_infra1&#x27;, &#x27;bottom_left_infra2&#x27;, &#x27;bottom_middle_r&#x27;,\n",
              "       &#x27;bottom_middle_g&#x27;, &#x27;bottom_middle_infra1&#x27;, &#x27;bottom_middle_infra2&#x27;,\n",
              "       &#x27;bottom_right_r&#x27;, &#x27;bottom_right_g&#x27;, &#x27;bottom_right_infra1&#x27;,\n",
              "       &#x27;bottom_right_infra2&#x27;],\n",
              "      dtype=&#x27;object&#x27;))])),\n",
              "                (&#x27;SVC&#x27;, RandomForestClassifier())])</pre></div></div></div><div class=\"sk-serial\"><div class=\"sk-item sk-dashed-wrapped\"><div class=\"sk-label-container\"><div class=\"sk-label sk-toggleable\"><input class=\"sk-toggleable__control sk-hidden--visually\" id=\"sk-estimator-id-9\" type=\"checkbox\" ><label for=\"sk-estimator-id-9\" class=\"sk-toggleable__label sk-toggleable__label-arrow\">transform: ColumnTransformer</label><div class=\"sk-toggleable__content\"><pre>ColumnTransformer(remainder=&#x27;passthrough&#x27;,\n",
              "                  transformers=[(&#x27;num&#x27;, MinMaxScaler(),\n",
              "                                 Index([&#x27;top_left_r&#x27;, &#x27;top_left_g&#x27;, &#x27;top_left_infra1&#x27;, &#x27;top_left_infra2&#x27;,\n",
              "       &#x27;top_middle_r&#x27;, &#x27;top_middle_g&#x27;, &#x27;top_middle_infra1&#x27;,\n",
              "       &#x27;top_middle_infra2&#x27;, &#x27;top_right_r&#x27;, &#x27;top_right_g&#x27;, &#x27;top_right_infra1&#x27;,\n",
              "       &#x27;top_right_infra2&#x27;, &#x27;middle_left_r&#x27;, &#x27;middle_left_g&#x27;,\n",
              "       &#x27;middle_left_infra1&#x27;, &#x27;middle_left_i...\n",
              "       &#x27;central_pixel_g&#x27;, &#x27;central_pixel_infra1&#x27;, &#x27;central_pixel_infra2&#x27;,\n",
              "       &#x27;middle_right_r&#x27;, &#x27;middle_right_g&#x27;, &#x27;middle_right_infra1&#x27;,\n",
              "       &#x27;middle_right_infra2&#x27;, &#x27;bottom_left_r&#x27;, &#x27;bottom_left_g&#x27;,\n",
              "       &#x27;bottom_left_infra1&#x27;, &#x27;bottom_left_infra2&#x27;, &#x27;bottom_middle_r&#x27;,\n",
              "       &#x27;bottom_middle_g&#x27;, &#x27;bottom_middle_infra1&#x27;, &#x27;bottom_middle_infra2&#x27;,\n",
              "       &#x27;bottom_right_r&#x27;, &#x27;bottom_right_g&#x27;, &#x27;bottom_right_infra1&#x27;,\n",
              "       &#x27;bottom_right_infra2&#x27;],\n",
              "      dtype=&#x27;object&#x27;))])</pre></div></div></div><div class=\"sk-parallel\"><div class=\"sk-parallel-item\"><div class=\"sk-item\"><div class=\"sk-label-container\"><div class=\"sk-label sk-toggleable\"><input class=\"sk-toggleable__control sk-hidden--visually\" id=\"sk-estimator-id-10\" type=\"checkbox\" ><label for=\"sk-estimator-id-10\" class=\"sk-toggleable__label sk-toggleable__label-arrow\">num</label><div class=\"sk-toggleable__content\"><pre>Index([&#x27;top_left_r&#x27;, &#x27;top_left_g&#x27;, &#x27;top_left_infra1&#x27;, &#x27;top_left_infra2&#x27;,\n",
              "       &#x27;top_middle_r&#x27;, &#x27;top_middle_g&#x27;, &#x27;top_middle_infra1&#x27;,\n",
              "       &#x27;top_middle_infra2&#x27;, &#x27;top_right_r&#x27;, &#x27;top_right_g&#x27;, &#x27;top_right_infra1&#x27;,\n",
              "       &#x27;top_right_infra2&#x27;, &#x27;middle_left_r&#x27;, &#x27;middle_left_g&#x27;,\n",
              "       &#x27;middle_left_infra1&#x27;, &#x27;middle_left_infra2&#x27;, &#x27;central_pixel_r&#x27;,\n",
              "       &#x27;central_pixel_g&#x27;, &#x27;central_pixel_infra1&#x27;, &#x27;central_pixel_infra2&#x27;,\n",
              "       &#x27;middle_right_r&#x27;, &#x27;middle_right_g&#x27;, &#x27;middle_right_infra1&#x27;,\n",
              "       &#x27;middle_right_infra2&#x27;, &#x27;bottom_left_r&#x27;, &#x27;bottom_left_g&#x27;,\n",
              "       &#x27;bottom_left_infra1&#x27;, &#x27;bottom_left_infra2&#x27;, &#x27;bottom_middle_r&#x27;,\n",
              "       &#x27;bottom_middle_g&#x27;, &#x27;bottom_middle_infra1&#x27;, &#x27;bottom_middle_infra2&#x27;,\n",
              "       &#x27;bottom_right_r&#x27;, &#x27;bottom_right_g&#x27;, &#x27;bottom_right_infra1&#x27;,\n",
              "       &#x27;bottom_right_infra2&#x27;],\n",
              "      dtype=&#x27;object&#x27;)</pre></div></div></div><div class=\"sk-serial\"><div class=\"sk-item\"><div class=\"sk-estimator sk-toggleable\"><input class=\"sk-toggleable__control sk-hidden--visually\" id=\"sk-estimator-id-11\" type=\"checkbox\" ><label for=\"sk-estimator-id-11\" class=\"sk-toggleable__label sk-toggleable__label-arrow\">MinMaxScaler</label><div class=\"sk-toggleable__content\"><pre>MinMaxScaler()</pre></div></div></div></div></div></div><div class=\"sk-parallel-item\"><div class=\"sk-item\"><div class=\"sk-label-container\"><div class=\"sk-label sk-toggleable\"><input class=\"sk-toggleable__control sk-hidden--visually\" id=\"sk-estimator-id-12\" type=\"checkbox\" ><label for=\"sk-estimator-id-12\" class=\"sk-toggleable__label sk-toggleable__label-arrow\">remainder</label><div class=\"sk-toggleable__content\"><pre>[]</pre></div></div></div><div class=\"sk-serial\"><div class=\"sk-item\"><div class=\"sk-estimator sk-toggleable\"><input class=\"sk-toggleable__control sk-hidden--visually\" id=\"sk-estimator-id-13\" type=\"checkbox\" ><label for=\"sk-estimator-id-13\" class=\"sk-toggleable__label sk-toggleable__label-arrow\">passthrough</label><div class=\"sk-toggleable__content\"><pre>passthrough</pre></div></div></div></div></div></div></div></div><div class=\"sk-item\"><div class=\"sk-estimator sk-toggleable\"><input class=\"sk-toggleable__control sk-hidden--visually\" id=\"sk-estimator-id-14\" type=\"checkbox\" ><label for=\"sk-estimator-id-14\" class=\"sk-toggleable__label sk-toggleable__label-arrow\">RandomForestClassifier</label><div class=\"sk-toggleable__content\"><pre>RandomForestClassifier()</pre></div></div></div></div></div></div></div>"
            ]
          },
          "metadata": {},
          "execution_count": 26
        }
      ]
    },
    {
      "cell_type": "markdown",
      "source": [
        "# Evaluating the Model"
      ],
      "metadata": {
        "id": "wg0NjSsVd6k-"
      }
    },
    {
      "cell_type": "code",
      "source": [
        "y_pred = pipeline.predict(X_test)"
      ],
      "metadata": {
        "id": "i92kPuL8biKh"
      },
      "execution_count": 27,
      "outputs": []
    },
    {
      "cell_type": "code",
      "source": [
        "classification_report(y_test,y_pred)"
      ],
      "metadata": {
        "colab": {
          "base_uri": "https://localhost:8080/",
          "height": 53
        },
        "id": "a9K71pxjeTg3",
        "outputId": "04a9c51a-0cbc-4343-982b-1eb53f043967"
      },
      "execution_count": 36,
      "outputs": [
        {
          "output_type": "execute_result",
          "data": {
            "text/plain": [
              "'              precision    recall  f1-score   support\\n\\n           1       0.98      0.99      0.99       461\\n           2       0.98      0.98      0.98       224\\n           3       0.88      0.94      0.91       397\\n           4       0.77      0.64      0.69       211\\n           5       0.93      0.89      0.91       237\\n           7       0.88      0.90      0.89       470\\n\\n    accuracy                           0.91      2000\\n   macro avg       0.90      0.89      0.89      2000\\nweighted avg       0.91      0.91      0.91      2000\\n'"
            ],
            "application/vnd.google.colaboratory.intrinsic+json": {
              "type": "string"
            }
          },
          "metadata": {},
          "execution_count": 36
        }
      ]
    },
    {
      "cell_type": "code",
      "source": [
        "ConfusionMatrixDisplay.from_predictions(y_test,y_pred)"
      ],
      "metadata": {
        "colab": {
          "base_uri": "https://localhost:8080/",
          "height": 466
        },
        "id": "th1mPnB7eCmS",
        "outputId": "90b22c4e-61aa-460f-a716-d3b35841ed66"
      },
      "execution_count": 30,
      "outputs": [
        {
          "output_type": "execute_result",
          "data": {
            "text/plain": [
              "<sklearn.metrics._plot.confusion_matrix.ConfusionMatrixDisplay at 0x781932200640>"
            ]
          },
          "metadata": {},
          "execution_count": 30
        },
        {
          "output_type": "display_data",
          "data": {
            "text/plain": [
              "<Figure size 640x480 with 2 Axes>"
            ],
            "image/png": "[encoded data removed]"
          },
          "metadata": {}
        }
      ]
    },
    {
      "cell_type": "markdown",
      "source": [
        "These results indicate that our model is very good. most results uended up in the correct places in the confusion matrix, and our precision, recall andF1 scores are all quite high, with F1 being approximately 91%. The results of course could be better, but they are generally quite good, indicating the strength of our model."
      ],
      "metadata": {
        "id": "wj09X60deqQ1"
      }
    },
    {
      "cell_type": "markdown",
      "source": [
        "# Conclusion\n",
        "This model is a good fit for our model, but it is certainly not the best. With an F1 score of around 91%, there is definitely room for improvement. It is generally reliable, but does seem to struggle to identify between land types 3 and 4, as well as correctly identify type 7 land."
      ],
      "metadata": {
        "id": "cks7LUCvfjH2"
      }
    },
    {
      "cell_type": "markdown",
      "source": [
        "#Acquire Data"
      ],
      "metadata": {
        "id": "lZQVRRUmhKDM"
      }
    },
    {
      "cell_type": "markdown",
      "source": [
        "Data Acquired in Problem 1"
      ],
      "metadata": {
        "id": "cyvnLbEBM8fa"
      }
    },
    {
      "cell_type": "markdown",
      "source": [
        "# Splitting Data into Train/Test"
      ],
      "metadata": {
        "id": "kYc0AyR1hfFr"
      }
    },
    {
      "cell_type": "markdown",
      "source": [
        "Data split in Problem 1"
      ],
      "metadata": {
        "id": "sRvElvBUM_nT"
      }
    },
    {
      "cell_type": "markdown",
      "source": [
        "# Building the Pipeline"
      ],
      "metadata": {
        "id": "E275HF0Ohza6"
      }
    },
    {
      "cell_type": "code",
      "source": [
        "pipeline = plne([('transform',col_trans),('BaggingClassifier',BaggingClassifier(RandomForestClassifier()))])"
      ],
      "metadata": {
        "id": "J142mDnPhvof"
      },
      "execution_count": 46,
      "outputs": []
    },
    {
      "cell_type": "code",
      "source": [
        "from sklearn import set_config\n",
        "set_config(display='diagram')\n",
        "pipeline"
      ],
      "metadata": {
        "colab": {
          "base_uri": "https://localhost:8080/",
          "height": 261
        },
        "id": "h1PW_ajgh63_",
        "outputId": "01a3bd6f-16b8-4ce2-a901-9b7b2563c6c7"
      },
      "execution_count": 47,
      "outputs": [
        {
          "output_type": "execute_result",
          "data": {
            "text/plain": [
              "Pipeline(steps=[('transform',\n",
              "                 ColumnTransformer(remainder='passthrough',\n",
              "                                   transformers=[('num', MinMaxScaler(),\n",
              "                                                  Index(['top_left_r', 'top_left_g', 'top_left_infra1', 'top_left_infra2',\n",
              "       'top_middle_r', 'top_middle_g', 'top_middle_infra1',\n",
              "       'top_middle_infra2', 'top_right_r', 'top_right_g', 'top_right_infra1',\n",
              "       'top_right_infra2', 'middle_left_r', 'middle_left_g',\n",
              "       'middl...\n",
              "       'middle_right_infra2', 'bottom_left_r', 'bottom_left_g',\n",
              "       'bottom_left_infra1', 'bottom_left_infra2', 'bottom_middle_r',\n",
              "       'bottom_middle_g', 'bottom_middle_infra1', 'bottom_middle_infra2',\n",
              "       'bottom_right_r', 'bottom_right_g', 'bottom_right_infra1',\n",
              "       'bottom_right_infra2'],\n",
              "      dtype='object'))])),\n",
              "                ('BaggingClassifier',\n",
              "                 BaggingClassifier(estimator=RandomForestClassifier()))])"
            ],
            "text/html": [
              "<style>#sk-container-id-6 {color: black;background-color: white;}#sk-container-id-6 pre{padding: 0;}#sk-container-id-6 div.sk-toggleable {background-color: white;}#sk-container-id-6 label.sk-toggleable__label {cursor: pointer;display: block;width: 100%;margin-bottom: 0;padding: 0.3em;box-sizing: border-box;text-align: center;}#sk-container-id-6 label.sk-toggleable__label-arrow:before {content: \"▸\";float: left;margin-right: 0.25em;color: #696969;}#sk-container-id-6 label.sk-toggleable__label-arrow:hover:before {color: black;}#sk-container-id-6 div.sk-estimator:hover label.sk-toggleable__label-arrow:before {color: black;}#sk-container-id-6 div.sk-toggleable__content {max-height: 0;max-width: 0;overflow: hidden;text-align: left;background-color: #f0f8ff;}#sk-container-id-6 div.sk-toggleable__content pre {margin: 0.2em;color: black;border-radius: 0.25em;background-color: #f0f8ff;}#sk-container-id-6 input.sk-toggleable__control:checked~div.sk-toggleable__content {max-height: 200px;max-width: 100%;overflow: auto;}#sk-container-id-6 input.sk-toggleable__control:checked~label.sk-toggleable__label-arrow:before {content: \"▾\";}#sk-container-id-6 div.sk-estimator input.sk-toggleable__control:checked~label.sk-toggleable__label {background-color: #d4ebff;}#sk-container-id-6 div.sk-label input.sk-toggleable__control:checked~label.sk-toggleable__label {background-color: #d4ebff;}#sk-container-id-6 input.sk-hidden--visually {border: 0;clip: rect(1px 1px 1px 1px);clip: rect(1px, 1px, 1px, 1px);height: 1px;margin: -1px;overflow: hidden;padding: 0;position: absolute;width: 1px;}#sk-container-id-6 div.sk-estimator {font-family: monospace;background-color: #f0f8ff;border: 1px dotted black;border-radius: 0.25em;box-sizing: border-box;margin-bottom: 0.5em;}#sk-container-id-6 div.sk-estimator:hover {background-color: #d4ebff;}#sk-container-id-6 div.sk-parallel-item::after {content: \"\";width: 100%;border-bottom: 1px solid gray;flex-grow: 1;}#sk-container-id-6 div.sk-label:hover label.sk-toggleable__label {background-color: #d4ebff;}#sk-container-id-6 div.sk-serial::before {content: \"\";position: absolute;border-left: 1px solid gray;box-sizing: border-box;top: 0;bottom: 0;left: 50%;z-index: 0;}#sk-container-id-6 div.sk-serial {display: flex;flex-direction: column;align-items: center;background-color: white;padding-right: 0.2em;padding-left: 0.2em;position: relative;}#sk-container-id-6 div.sk-item {position: relative;z-index: 1;}#sk-container-id-6 div.sk-parallel {display: flex;align-items: stretch;justify-content: center;background-color: white;position: relative;}#sk-container-id-6 div.sk-item::before, #sk-container-id-6 div.sk-parallel-item::before {content: \"\";position: absolute;border-left: 1px solid gray;box-sizing: border-box;top: 0;bottom: 0;left: 50%;z-index: -1;}#sk-container-id-6 div.sk-parallel-item {display: flex;flex-direction: column;z-index: 1;position: relative;background-color: white;}#sk-container-id-6 div.sk-parallel-item:first-child::after {align-self: flex-end;width: 50%;}#sk-container-id-6 div.sk-parallel-item:last-child::after {align-self: flex-start;width: 50%;}#sk-container-id-6 div.sk-parallel-item:only-child::after {width: 0;}#sk-container-id-6 div.sk-dashed-wrapped {border: 1px dashed gray;margin: 0 0.4em 0.5em 0.4em;box-sizing: border-box;padding-bottom: 0.4em;background-color: white;}#sk-container-id-6 div.sk-label label {font-family: monospace;font-weight: bold;display: inline-block;line-height: 1.2em;}#sk-container-id-6 div.sk-label-container {text-align: center;}#sk-container-id-6 div.sk-container {/* jupyter's `normalize.less` sets `[hidden] { display: none; }` but bootstrap.min.css set `[hidden] { display: none !important; }` so we also need the `!important` here to be able to override the default hidden behavior on the sphinx rendered scikit-learn.org. See: https://github.com/scikit-learn/scikit-learn/issues/21755 */display: inline-block !important;position: relative;}#sk-container-id-6 div.sk-text-repr-fallback {display: none;}</style><div id=\"sk-container-id-6\" class=\"sk-top-container\"><div class=\"sk-text-repr-fallback\"><pre>Pipeline(steps=[(&#x27;transform&#x27;,\n",
              "                 ColumnTransformer(remainder=&#x27;passthrough&#x27;,\n",
              "                                   transformers=[(&#x27;num&#x27;, MinMaxScaler(),\n",
              "                                                  Index([&#x27;top_left_r&#x27;, &#x27;top_left_g&#x27;, &#x27;top_left_infra1&#x27;, &#x27;top_left_infra2&#x27;,\n",
              "       &#x27;top_middle_r&#x27;, &#x27;top_middle_g&#x27;, &#x27;top_middle_infra1&#x27;,\n",
              "       &#x27;top_middle_infra2&#x27;, &#x27;top_right_r&#x27;, &#x27;top_right_g&#x27;, &#x27;top_right_infra1&#x27;,\n",
              "       &#x27;top_right_infra2&#x27;, &#x27;middle_left_r&#x27;, &#x27;middle_left_g&#x27;,\n",
              "       &#x27;middl...\n",
              "       &#x27;middle_right_infra2&#x27;, &#x27;bottom_left_r&#x27;, &#x27;bottom_left_g&#x27;,\n",
              "       &#x27;bottom_left_infra1&#x27;, &#x27;bottom_left_infra2&#x27;, &#x27;bottom_middle_r&#x27;,\n",
              "       &#x27;bottom_middle_g&#x27;, &#x27;bottom_middle_infra1&#x27;, &#x27;bottom_middle_infra2&#x27;,\n",
              "       &#x27;bottom_right_r&#x27;, &#x27;bottom_right_g&#x27;, &#x27;bottom_right_infra1&#x27;,\n",
              "       &#x27;bottom_right_infra2&#x27;],\n",
              "      dtype=&#x27;object&#x27;))])),\n",
              "                (&#x27;BaggingClassifier&#x27;,\n",
              "                 BaggingClassifier(estimator=RandomForestClassifier()))])</pre><b>In a Jupyter environment, please rerun this cell to show the HTML representation or trust the notebook. <br />On GitHub, the HTML representation is unable to render, please try loading this page with nbviewer.org.</b></div><div class=\"sk-container\" hidden><div class=\"sk-item sk-dashed-wrapped\"><div class=\"sk-label-container\"><div class=\"sk-label sk-toggleable\"><input class=\"sk-toggleable__control sk-hidden--visually\" id=\"sk-estimator-id-36\" type=\"checkbox\" ><label for=\"sk-estimator-id-36\" class=\"sk-toggleable__label sk-toggleable__label-arrow\">Pipeline</label><div class=\"sk-toggleable__content\"><pre>Pipeline(steps=[(&#x27;transform&#x27;,\n",
              "                 ColumnTransformer(remainder=&#x27;passthrough&#x27;,\n",
              "                                   transformers=[(&#x27;num&#x27;, MinMaxScaler(),\n",
              "                                                  Index([&#x27;top_left_r&#x27;, &#x27;top_left_g&#x27;, &#x27;top_left_infra1&#x27;, &#x27;top_left_infra2&#x27;,\n",
              "       &#x27;top_middle_r&#x27;, &#x27;top_middle_g&#x27;, &#x27;top_middle_infra1&#x27;,\n",
              "       &#x27;top_middle_infra2&#x27;, &#x27;top_right_r&#x27;, &#x27;top_right_g&#x27;, &#x27;top_right_infra1&#x27;,\n",
              "       &#x27;top_right_infra2&#x27;, &#x27;middle_left_r&#x27;, &#x27;middle_left_g&#x27;,\n",
              "       &#x27;middl...\n",
              "       &#x27;middle_right_infra2&#x27;, &#x27;bottom_left_r&#x27;, &#x27;bottom_left_g&#x27;,\n",
              "       &#x27;bottom_left_infra1&#x27;, &#x27;bottom_left_infra2&#x27;, &#x27;bottom_middle_r&#x27;,\n",
              "       &#x27;bottom_middle_g&#x27;, &#x27;bottom_middle_infra1&#x27;, &#x27;bottom_middle_infra2&#x27;,\n",
              "       &#x27;bottom_right_r&#x27;, &#x27;bottom_right_g&#x27;, &#x27;bottom_right_infra1&#x27;,\n",
              "       &#x27;bottom_right_infra2&#x27;],\n",
              "      dtype=&#x27;object&#x27;))])),\n",
              "                (&#x27;BaggingClassifier&#x27;,\n",
              "                 BaggingClassifier(estimator=RandomForestClassifier()))])</pre></div></div></div><div class=\"sk-serial\"><div class=\"sk-item sk-dashed-wrapped\"><div class=\"sk-label-container\"><div class=\"sk-label sk-toggleable\"><input class=\"sk-toggleable__control sk-hidden--visually\" id=\"sk-estimator-id-37\" type=\"checkbox\" ><label for=\"sk-estimator-id-37\" class=\"sk-toggleable__label sk-toggleable__label-arrow\">transform: ColumnTransformer</label><div class=\"sk-toggleable__content\"><pre>ColumnTransformer(remainder=&#x27;passthrough&#x27;,\n",
              "                  transformers=[(&#x27;num&#x27;, MinMaxScaler(),\n",
              "                                 Index([&#x27;top_left_r&#x27;, &#x27;top_left_g&#x27;, &#x27;top_left_infra1&#x27;, &#x27;top_left_infra2&#x27;,\n",
              "       &#x27;top_middle_r&#x27;, &#x27;top_middle_g&#x27;, &#x27;top_middle_infra1&#x27;,\n",
              "       &#x27;top_middle_infra2&#x27;, &#x27;top_right_r&#x27;, &#x27;top_right_g&#x27;, &#x27;top_right_infra1&#x27;,\n",
              "       &#x27;top_right_infra2&#x27;, &#x27;middle_left_r&#x27;, &#x27;middle_left_g&#x27;,\n",
              "       &#x27;middle_left_infra1&#x27;, &#x27;middle_left_i...\n",
              "       &#x27;central_pixel_g&#x27;, &#x27;central_pixel_infra1&#x27;, &#x27;central_pixel_infra2&#x27;,\n",
              "       &#x27;middle_right_r&#x27;, &#x27;middle_right_g&#x27;, &#x27;middle_right_infra1&#x27;,\n",
              "       &#x27;middle_right_infra2&#x27;, &#x27;bottom_left_r&#x27;, &#x27;bottom_left_g&#x27;,\n",
              "       &#x27;bottom_left_infra1&#x27;, &#x27;bottom_left_infra2&#x27;, &#x27;bottom_middle_r&#x27;,\n",
              "       &#x27;bottom_middle_g&#x27;, &#x27;bottom_middle_infra1&#x27;, &#x27;bottom_middle_infra2&#x27;,\n",
              "       &#x27;bottom_right_r&#x27;, &#x27;bottom_right_g&#x27;, &#x27;bottom_right_infra1&#x27;,\n",
              "       &#x27;bottom_right_infra2&#x27;],\n",
              "      dtype=&#x27;object&#x27;))])</pre></div></div></div><div class=\"sk-parallel\"><div class=\"sk-parallel-item\"><div class=\"sk-item\"><div class=\"sk-label-container\"><div class=\"sk-label sk-toggleable\"><input class=\"sk-toggleable__control sk-hidden--visually\" id=\"sk-estimator-id-38\" type=\"checkbox\" ><label for=\"sk-estimator-id-38\" class=\"sk-toggleable__label sk-toggleable__label-arrow\">num</label><div class=\"sk-toggleable__content\"><pre>Index([&#x27;top_left_r&#x27;, &#x27;top_left_g&#x27;, &#x27;top_left_infra1&#x27;, &#x27;top_left_infra2&#x27;,\n",
              "       &#x27;top_middle_r&#x27;, &#x27;top_middle_g&#x27;, &#x27;top_middle_infra1&#x27;,\n",
              "       &#x27;top_middle_infra2&#x27;, &#x27;top_right_r&#x27;, &#x27;top_right_g&#x27;, &#x27;top_right_infra1&#x27;,\n",
              "       &#x27;top_right_infra2&#x27;, &#x27;middle_left_r&#x27;, &#x27;middle_left_g&#x27;,\n",
              "       &#x27;middle_left_infra1&#x27;, &#x27;middle_left_infra2&#x27;, &#x27;central_pixel_r&#x27;,\n",
              "       &#x27;central_pixel_g&#x27;, &#x27;central_pixel_infra1&#x27;, &#x27;central_pixel_infra2&#x27;,\n",
              "       &#x27;middle_right_r&#x27;, &#x27;middle_right_g&#x27;, &#x27;middle_right_infra1&#x27;,\n",
              "       &#x27;middle_right_infra2&#x27;, &#x27;bottom_left_r&#x27;, &#x27;bottom_left_g&#x27;,\n",
              "       &#x27;bottom_left_infra1&#x27;, &#x27;bottom_left_infra2&#x27;, &#x27;bottom_middle_r&#x27;,\n",
              "       &#x27;bottom_middle_g&#x27;, &#x27;bottom_middle_infra1&#x27;, &#x27;bottom_middle_infra2&#x27;,\n",
              "       &#x27;bottom_right_r&#x27;, &#x27;bottom_right_g&#x27;, &#x27;bottom_right_infra1&#x27;,\n",
              "       &#x27;bottom_right_infra2&#x27;],\n",
              "      dtype=&#x27;object&#x27;)</pre></div></div></div><div class=\"sk-serial\"><div class=\"sk-item\"><div class=\"sk-estimator sk-toggleable\"><input class=\"sk-toggleable__control sk-hidden--visually\" id=\"sk-estimator-id-39\" type=\"checkbox\" ><label for=\"sk-estimator-id-39\" class=\"sk-toggleable__label sk-toggleable__label-arrow\">MinMaxScaler</label><div class=\"sk-toggleable__content\"><pre>MinMaxScaler()</pre></div></div></div></div></div></div><div class=\"sk-parallel-item\"><div class=\"sk-item\"><div class=\"sk-label-container\"><div class=\"sk-label sk-toggleable\"><input class=\"sk-toggleable__control sk-hidden--visually\" id=\"sk-estimator-id-40\" type=\"checkbox\" ><label for=\"sk-estimator-id-40\" class=\"sk-toggleable__label sk-toggleable__label-arrow\">remainder</label><div class=\"sk-toggleable__content\"><pre>[]</pre></div></div></div><div class=\"sk-serial\"><div class=\"sk-item\"><div class=\"sk-estimator sk-toggleable\"><input class=\"sk-toggleable__control sk-hidden--visually\" id=\"sk-estimator-id-41\" type=\"checkbox\" ><label for=\"sk-estimator-id-41\" class=\"sk-toggleable__label sk-toggleable__label-arrow\">passthrough</label><div class=\"sk-toggleable__content\"><pre>passthrough</pre></div></div></div></div></div></div></div></div><div class=\"sk-item sk-dashed-wrapped\"><div class=\"sk-label-container\"><div class=\"sk-label sk-toggleable\"><input class=\"sk-toggleable__control sk-hidden--visually\" id=\"sk-estimator-id-42\" type=\"checkbox\" ><label for=\"sk-estimator-id-42\" class=\"sk-toggleable__label sk-toggleable__label-arrow\">BaggingClassifier: BaggingClassifier</label><div class=\"sk-toggleable__content\"><pre>BaggingClassifier(estimator=RandomForestClassifier())</pre></div></div></div><div class=\"sk-parallel\"><div class=\"sk-parallel-item\"><div class=\"sk-item\"><div class=\"sk-label-container\"><div class=\"sk-label sk-toggleable\"><input class=\"sk-toggleable__control sk-hidden--visually\" id=\"sk-estimator-id-43\" type=\"checkbox\" ><label for=\"sk-estimator-id-43\" class=\"sk-toggleable__label sk-toggleable__label-arrow\">estimator: RandomForestClassifier</label><div class=\"sk-toggleable__content\"><pre>RandomForestClassifier()</pre></div></div></div><div class=\"sk-serial\"><div class=\"sk-item\"><div class=\"sk-estimator sk-toggleable\"><input class=\"sk-toggleable__control sk-hidden--visually\" id=\"sk-estimator-id-44\" type=\"checkbox\" ><label for=\"sk-estimator-id-44\" class=\"sk-toggleable__label sk-toggleable__label-arrow\">RandomForestClassifier</label><div class=\"sk-toggleable__content\"><pre>RandomForestClassifier()</pre></div></div></div></div></div></div></div></div></div></div></div></div>"
            ]
          },
          "metadata": {},
          "execution_count": 47
        }
      ]
    },
    {
      "cell_type": "markdown",
      "source": [
        "# Executing the Model"
      ],
      "metadata": {
        "id": "J4_m24f6iDJt"
      }
    },
    {
      "cell_type": "code",
      "source": [
        "pipeline.fit(X_train,y_train)"
      ],
      "metadata": {
        "colab": {
          "base_uri": "https://localhost:8080/",
          "height": 261
        },
        "id": "EVquEZItiCnU",
        "outputId": "e434da30-c396-4162-890c-1ee2d83a541d"
      },
      "execution_count": 48,
      "outputs": [
        {
          "output_type": "execute_result",
          "data": {
            "text/plain": [
              "Pipeline(steps=[('transform',\n",
              "                 ColumnTransformer(remainder='passthrough',\n",
              "                                   transformers=[('num', MinMaxScaler(),\n",
              "                                                  Index(['top_left_r', 'top_left_g', 'top_left_infra1', 'top_left_infra2',\n",
              "       'top_middle_r', 'top_middle_g', 'top_middle_infra1',\n",
              "       'top_middle_infra2', 'top_right_r', 'top_right_g', 'top_right_infra1',\n",
              "       'top_right_infra2', 'middle_left_r', 'middle_left_g',\n",
              "       'middl...\n",
              "       'middle_right_infra2', 'bottom_left_r', 'bottom_left_g',\n",
              "       'bottom_left_infra1', 'bottom_left_infra2', 'bottom_middle_r',\n",
              "       'bottom_middle_g', 'bottom_middle_infra1', 'bottom_middle_infra2',\n",
              "       'bottom_right_r', 'bottom_right_g', 'bottom_right_infra1',\n",
              "       'bottom_right_infra2'],\n",
              "      dtype='object'))])),\n",
              "                ('BaggingClassifier',\n",
              "                 BaggingClassifier(estimator=RandomForestClassifier()))])"
            ],
            "text/html": [
              "<style>#sk-container-id-7 {color: black;background-color: white;}#sk-container-id-7 pre{padding: 0;}#sk-container-id-7 div.sk-toggleable {background-color: white;}#sk-container-id-7 label.sk-toggleable__label {cursor: pointer;display: block;width: 100%;margin-bottom: 0;padding: 0.3em;box-sizing: border-box;text-align: center;}#sk-container-id-7 label.sk-toggleable__label-arrow:before {content: \"▸\";float: left;margin-right: 0.25em;color: #696969;}#sk-container-id-7 label.sk-toggleable__label-arrow:hover:before {color: black;}#sk-container-id-7 div.sk-estimator:hover label.sk-toggleable__label-arrow:before {color: black;}#sk-container-id-7 div.sk-toggleable__content {max-height: 0;max-width: 0;overflow: hidden;text-align: left;background-color: #f0f8ff;}#sk-container-id-7 div.sk-toggleable__content pre {margin: 0.2em;color: black;border-radius: 0.25em;background-color: #f0f8ff;}#sk-container-id-7 input.sk-toggleable__control:checked~div.sk-toggleable__content {max-height: 200px;max-width: 100%;overflow: auto;}#sk-container-id-7 input.sk-toggleable__control:checked~label.sk-toggleable__label-arrow:before {content: \"▾\";}#sk-container-id-7 div.sk-estimator input.sk-toggleable__control:checked~label.sk-toggleable__label {background-color: #d4ebff;}#sk-container-id-7 div.sk-label input.sk-toggleable__control:checked~label.sk-toggleable__label {background-color: #d4ebff;}#sk-container-id-7 input.sk-hidden--visually {border: 0;clip: rect(1px 1px 1px 1px);clip: rect(1px, 1px, 1px, 1px);height: 1px;margin: -1px;overflow: hidden;padding: 0;position: absolute;width: 1px;}#sk-container-id-7 div.sk-estimator {font-family: monospace;background-color: #f0f8ff;border: 1px dotted black;border-radius: 0.25em;box-sizing: border-box;margin-bottom: 0.5em;}#sk-container-id-7 div.sk-estimator:hover {background-color: #d4ebff;}#sk-container-id-7 div.sk-parallel-item::after {content: \"\";width: 100%;border-bottom: 1px solid gray;flex-grow: 1;}#sk-container-id-7 div.sk-label:hover label.sk-toggleable__label {background-color: #d4ebff;}#sk-container-id-7 div.sk-serial::before {content: \"\";position: absolute;border-left: 1px solid gray;box-sizing: border-box;top: 0;bottom: 0;left: 50%;z-index: 0;}#sk-container-id-7 div.sk-serial {display: flex;flex-direction: column;align-items: center;background-color: white;padding-right: 0.2em;padding-left: 0.2em;position: relative;}#sk-container-id-7 div.sk-item {position: relative;z-index: 1;}#sk-container-id-7 div.sk-parallel {display: flex;align-items: stretch;justify-content: center;background-color: white;position: relative;}#sk-container-id-7 div.sk-item::before, #sk-container-id-7 div.sk-parallel-item::before {content: \"\";position: absolute;border-left: 1px solid gray;box-sizing: border-box;top: 0;bottom: 0;left: 50%;z-index: -1;}#sk-container-id-7 div.sk-parallel-item {display: flex;flex-direction: column;z-index: 1;position: relative;background-color: white;}#sk-container-id-7 div.sk-parallel-item:first-child::after {align-self: flex-end;width: 50%;}#sk-container-id-7 div.sk-parallel-item:last-child::after {align-self: flex-start;width: 50%;}#sk-container-id-7 div.sk-parallel-item:only-child::after {width: 0;}#sk-container-id-7 div.sk-dashed-wrapped {border: 1px dashed gray;margin: 0 0.4em 0.5em 0.4em;box-sizing: border-box;padding-bottom: 0.4em;background-color: white;}#sk-container-id-7 div.sk-label label {font-family: monospace;font-weight: bold;display: inline-block;line-height: 1.2em;}#sk-container-id-7 div.sk-label-container {text-align: center;}#sk-container-id-7 div.sk-container {/* jupyter's `normalize.less` sets `[hidden] { display: none; }` but bootstrap.min.css set `[hidden] { display: none !important; }` so we also need the `!important` here to be able to override the default hidden behavior on the sphinx rendered scikit-learn.org. See: https://github.com/scikit-learn/scikit-learn/issues/21755 */display: inline-block !important;position: relative;}#sk-container-id-7 div.sk-text-repr-fallback {display: none;}</style><div id=\"sk-container-id-7\" class=\"sk-top-container\"><div class=\"sk-text-repr-fallback\"><pre>Pipeline(steps=[(&#x27;transform&#x27;,\n",
              "                 ColumnTransformer(remainder=&#x27;passthrough&#x27;,\n",
              "                                   transformers=[(&#x27;num&#x27;, MinMaxScaler(),\n",
              "                                                  Index([&#x27;top_left_r&#x27;, &#x27;top_left_g&#x27;, &#x27;top_left_infra1&#x27;, &#x27;top_left_infra2&#x27;,\n",
              "       &#x27;top_middle_r&#x27;, &#x27;top_middle_g&#x27;, &#x27;top_middle_infra1&#x27;,\n",
              "       &#x27;top_middle_infra2&#x27;, &#x27;top_right_r&#x27;, &#x27;top_right_g&#x27;, &#x27;top_right_infra1&#x27;,\n",
              "       &#x27;top_right_infra2&#x27;, &#x27;middle_left_r&#x27;, &#x27;middle_left_g&#x27;,\n",
              "       &#x27;middl...\n",
              "       &#x27;middle_right_infra2&#x27;, &#x27;bottom_left_r&#x27;, &#x27;bottom_left_g&#x27;,\n",
              "       &#x27;bottom_left_infra1&#x27;, &#x27;bottom_left_infra2&#x27;, &#x27;bottom_middle_r&#x27;,\n",
              "       &#x27;bottom_middle_g&#x27;, &#x27;bottom_middle_infra1&#x27;, &#x27;bottom_middle_infra2&#x27;,\n",
              "       &#x27;bottom_right_r&#x27;, &#x27;bottom_right_g&#x27;, &#x27;bottom_right_infra1&#x27;,\n",
              "       &#x27;bottom_right_infra2&#x27;],\n",
              "      dtype=&#x27;object&#x27;))])),\n",
              "                (&#x27;BaggingClassifier&#x27;,\n",
              "                 BaggingClassifier(estimator=RandomForestClassifier()))])</pre><b>In a Jupyter environment, please rerun this cell to show the HTML representation or trust the notebook. <br />On GitHub, the HTML representation is unable to render, please try loading this page with nbviewer.org.</b></div><div class=\"sk-container\" hidden><div class=\"sk-item sk-dashed-wrapped\"><div class=\"sk-label-container\"><div class=\"sk-label sk-toggleable\"><input class=\"sk-toggleable__control sk-hidden--visually\" id=\"sk-estimator-id-45\" type=\"checkbox\" ><label for=\"sk-estimator-id-45\" class=\"sk-toggleable__label sk-toggleable__label-arrow\">Pipeline</label><div class=\"sk-toggleable__content\"><pre>Pipeline(steps=[(&#x27;transform&#x27;,\n",
              "                 ColumnTransformer(remainder=&#x27;passthrough&#x27;,\n",
              "                                   transformers=[(&#x27;num&#x27;, MinMaxScaler(),\n",
              "                                                  Index([&#x27;top_left_r&#x27;, &#x27;top_left_g&#x27;, &#x27;top_left_infra1&#x27;, &#x27;top_left_infra2&#x27;,\n",
              "       &#x27;top_middle_r&#x27;, &#x27;top_middle_g&#x27;, &#x27;top_middle_infra1&#x27;,\n",
              "       &#x27;top_middle_infra2&#x27;, &#x27;top_right_r&#x27;, &#x27;top_right_g&#x27;, &#x27;top_right_infra1&#x27;,\n",
              "       &#x27;top_right_infra2&#x27;, &#x27;middle_left_r&#x27;, &#x27;middle_left_g&#x27;,\n",
              "       &#x27;middl...\n",
              "       &#x27;middle_right_infra2&#x27;, &#x27;bottom_left_r&#x27;, &#x27;bottom_left_g&#x27;,\n",
              "       &#x27;bottom_left_infra1&#x27;, &#x27;bottom_left_infra2&#x27;, &#x27;bottom_middle_r&#x27;,\n",
              "       &#x27;bottom_middle_g&#x27;, &#x27;bottom_middle_infra1&#x27;, &#x27;bottom_middle_infra2&#x27;,\n",
              "       &#x27;bottom_right_r&#x27;, &#x27;bottom_right_g&#x27;, &#x27;bottom_right_infra1&#x27;,\n",
              "       &#x27;bottom_right_infra2&#x27;],\n",
              "      dtype=&#x27;object&#x27;))])),\n",
              "                (&#x27;BaggingClassifier&#x27;,\n",
              "                 BaggingClassifier(estimator=RandomForestClassifier()))])</pre></div></div></div><div class=\"sk-serial\"><div class=\"sk-item sk-dashed-wrapped\"><div class=\"sk-label-container\"><div class=\"sk-label sk-toggleable\"><input class=\"sk-toggleable__control sk-hidden--visually\" id=\"sk-estimator-id-46\" type=\"checkbox\" ><label for=\"sk-estimator-id-46\" class=\"sk-toggleable__label sk-toggleable__label-arrow\">transform: ColumnTransformer</label><div class=\"sk-toggleable__content\"><pre>ColumnTransformer(remainder=&#x27;passthrough&#x27;,\n",
              "                  transformers=[(&#x27;num&#x27;, MinMaxScaler(),\n",
              "                                 Index([&#x27;top_left_r&#x27;, &#x27;top_left_g&#x27;, &#x27;top_left_infra1&#x27;, &#x27;top_left_infra2&#x27;,\n",
              "       &#x27;top_middle_r&#x27;, &#x27;top_middle_g&#x27;, &#x27;top_middle_infra1&#x27;,\n",
              "       &#x27;top_middle_infra2&#x27;, &#x27;top_right_r&#x27;, &#x27;top_right_g&#x27;, &#x27;top_right_infra1&#x27;,\n",
              "       &#x27;top_right_infra2&#x27;, &#x27;middle_left_r&#x27;, &#x27;middle_left_g&#x27;,\n",
              "       &#x27;middle_left_infra1&#x27;, &#x27;middle_left_i...\n",
              "       &#x27;central_pixel_g&#x27;, &#x27;central_pixel_infra1&#x27;, &#x27;central_pixel_infra2&#x27;,\n",
              "       &#x27;middle_right_r&#x27;, &#x27;middle_right_g&#x27;, &#x27;middle_right_infra1&#x27;,\n",
              "       &#x27;middle_right_infra2&#x27;, &#x27;bottom_left_r&#x27;, &#x27;bottom_left_g&#x27;,\n",
              "       &#x27;bottom_left_infra1&#x27;, &#x27;bottom_left_infra2&#x27;, &#x27;bottom_middle_r&#x27;,\n",
              "       &#x27;bottom_middle_g&#x27;, &#x27;bottom_middle_infra1&#x27;, &#x27;bottom_middle_infra2&#x27;,\n",
              "       &#x27;bottom_right_r&#x27;, &#x27;bottom_right_g&#x27;, &#x27;bottom_right_infra1&#x27;,\n",
              "       &#x27;bottom_right_infra2&#x27;],\n",
              "      dtype=&#x27;object&#x27;))])</pre></div></div></div><div class=\"sk-parallel\"><div class=\"sk-parallel-item\"><div class=\"sk-item\"><div class=\"sk-label-container\"><div class=\"sk-label sk-toggleable\"><input class=\"sk-toggleable__control sk-hidden--visually\" id=\"sk-estimator-id-47\" type=\"checkbox\" ><label for=\"sk-estimator-id-47\" class=\"sk-toggleable__label sk-toggleable__label-arrow\">num</label><div class=\"sk-toggleable__content\"><pre>Index([&#x27;top_left_r&#x27;, &#x27;top_left_g&#x27;, &#x27;top_left_infra1&#x27;, &#x27;top_left_infra2&#x27;,\n",
              "       &#x27;top_middle_r&#x27;, &#x27;top_middle_g&#x27;, &#x27;top_middle_infra1&#x27;,\n",
              "       &#x27;top_middle_infra2&#x27;, &#x27;top_right_r&#x27;, &#x27;top_right_g&#x27;, &#x27;top_right_infra1&#x27;,\n",
              "       &#x27;top_right_infra2&#x27;, &#x27;middle_left_r&#x27;, &#x27;middle_left_g&#x27;,\n",
              "       &#x27;middle_left_infra1&#x27;, &#x27;middle_left_infra2&#x27;, &#x27;central_pixel_r&#x27;,\n",
              "       &#x27;central_pixel_g&#x27;, &#x27;central_pixel_infra1&#x27;, &#x27;central_pixel_infra2&#x27;,\n",
              "       &#x27;middle_right_r&#x27;, &#x27;middle_right_g&#x27;, &#x27;middle_right_infra1&#x27;,\n",
              "       &#x27;middle_right_infra2&#x27;, &#x27;bottom_left_r&#x27;, &#x27;bottom_left_g&#x27;,\n",
              "       &#x27;bottom_left_infra1&#x27;, &#x27;bottom_left_infra2&#x27;, &#x27;bottom_middle_r&#x27;,\n",
              "       &#x27;bottom_middle_g&#x27;, &#x27;bottom_middle_infra1&#x27;, &#x27;bottom_middle_infra2&#x27;,\n",
              "       &#x27;bottom_right_r&#x27;, &#x27;bottom_right_g&#x27;, &#x27;bottom_right_infra1&#x27;,\n",
              "       &#x27;bottom_right_infra2&#x27;],\n",
              "      dtype=&#x27;object&#x27;)</pre></div></div></div><div class=\"sk-serial\"><div class=\"sk-item\"><div class=\"sk-estimator sk-toggleable\"><input class=\"sk-toggleable__control sk-hidden--visually\" id=\"sk-estimator-id-48\" type=\"checkbox\" ><label for=\"sk-estimator-id-48\" class=\"sk-toggleable__label sk-toggleable__label-arrow\">MinMaxScaler</label><div class=\"sk-toggleable__content\"><pre>MinMaxScaler()</pre></div></div></div></div></div></div><div class=\"sk-parallel-item\"><div class=\"sk-item\"><div class=\"sk-label-container\"><div class=\"sk-label sk-toggleable\"><input class=\"sk-toggleable__control sk-hidden--visually\" id=\"sk-estimator-id-49\" type=\"checkbox\" ><label for=\"sk-estimator-id-49\" class=\"sk-toggleable__label sk-toggleable__label-arrow\">remainder</label><div class=\"sk-toggleable__content\"><pre>[]</pre></div></div></div><div class=\"sk-serial\"><div class=\"sk-item\"><div class=\"sk-estimator sk-toggleable\"><input class=\"sk-toggleable__control sk-hidden--visually\" id=\"sk-estimator-id-50\" type=\"checkbox\" ><label for=\"sk-estimator-id-50\" class=\"sk-toggleable__label sk-toggleable__label-arrow\">passthrough</label><div class=\"sk-toggleable__content\"><pre>passthrough</pre></div></div></div></div></div></div></div></div><div class=\"sk-item sk-dashed-wrapped\"><div class=\"sk-label-container\"><div class=\"sk-label sk-toggleable\"><input class=\"sk-toggleable__control sk-hidden--visually\" id=\"sk-estimator-id-51\" type=\"checkbox\" ><label for=\"sk-estimator-id-51\" class=\"sk-toggleable__label sk-toggleable__label-arrow\">BaggingClassifier: BaggingClassifier</label><div class=\"sk-toggleable__content\"><pre>BaggingClassifier(estimator=RandomForestClassifier())</pre></div></div></div><div class=\"sk-parallel\"><div class=\"sk-parallel-item\"><div class=\"sk-item\"><div class=\"sk-label-container\"><div class=\"sk-label sk-toggleable\"><input class=\"sk-toggleable__control sk-hidden--visually\" id=\"sk-estimator-id-52\" type=\"checkbox\" ><label for=\"sk-estimator-id-52\" class=\"sk-toggleable__label sk-toggleable__label-arrow\">estimator: RandomForestClassifier</label><div class=\"sk-toggleable__content\"><pre>RandomForestClassifier()</pre></div></div></div><div class=\"sk-serial\"><div class=\"sk-item\"><div class=\"sk-estimator sk-toggleable\"><input class=\"sk-toggleable__control sk-hidden--visually\" id=\"sk-estimator-id-53\" type=\"checkbox\" ><label for=\"sk-estimator-id-53\" class=\"sk-toggleable__label sk-toggleable__label-arrow\">RandomForestClassifier</label><div class=\"sk-toggleable__content\"><pre>RandomForestClassifier()</pre></div></div></div></div></div></div></div></div></div></div></div></div>"
            ]
          },
          "metadata": {},
          "execution_count": 48
        }
      ]
    },
    {
      "cell_type": "markdown",
      "source": [
        "# Evaluating the Model"
      ],
      "metadata": {
        "id": "WSj_65t_iHsB"
      }
    },
    {
      "cell_type": "code",
      "source": [
        "y_pred = pipeline.predict(X_test)"
      ],
      "metadata": {
        "id": "h3Cl54QniJx-"
      },
      "execution_count": 49,
      "outputs": []
    },
    {
      "cell_type": "code",
      "source": [
        "classification_report(y_test,y_pred)"
      ],
      "metadata": {
        "colab": {
          "base_uri": "https://localhost:8080/",
          "height": 53
        },
        "id": "zYHtS7a3keHs",
        "outputId": "ccebeba8-6fe2-457f-aaba-a1c4b996b25e"
      },
      "execution_count": 50,
      "outputs": [
        {
          "output_type": "execute_result",
          "data": {
            "text/plain": [
              "'              precision    recall  f1-score   support\\n\\n           1       0.98      0.99      0.98       461\\n           2       0.98      0.98      0.98       224\\n           3       0.88      0.95      0.92       397\\n           4       0.75      0.61      0.67       211\\n           5       0.92      0.88      0.90       237\\n           7       0.86      0.89      0.87       470\\n\\n    accuracy                           0.90      2000\\n   macro avg       0.90      0.88      0.89      2000\\nweighted avg       0.90      0.90      0.90      2000\\n'"
            ],
            "application/vnd.google.colaboratory.intrinsic+json": {
              "type": "string"
            }
          },
          "metadata": {},
          "execution_count": 50
        }
      ]
    },
    {
      "cell_type": "code",
      "source": [
        "ConfusionMatrixDisplay.from_predictions(y_test,y_pred)"
      ],
      "metadata": {
        "colab": {
          "base_uri": "https://localhost:8080/",
          "height": 466
        },
        "id": "TCVCgPs2NOPO",
        "outputId": "feaa6642-6e61-487c-dfcd-ada6a324d16c"
      },
      "execution_count": 51,
      "outputs": [
        {
          "output_type": "execute_result",
          "data": {
            "text/plain": [
              "<sklearn.metrics._plot.confusion_matrix.ConfusionMatrixDisplay at 0x781931ee6320>"
            ]
          },
          "metadata": {},
          "execution_count": 51
        },
        {
          "output_type": "display_data",
          "data": {
            "text/plain": [
              "<Figure size 640x480 with 2 Axes>"
            ],
            "image/png": "[encoded data removed]"
          },
          "metadata": {}
        }
      ]
    },
    {
      "cell_type": "markdown",
      "source": [
        "The result above indicates that this model is quite good, with an F1 score of approximately 92%. This is slightly better than the previous model, and it seems to struggle in similar places, which makes sense due to the nature of Bagging."
      ],
      "metadata": {
        "id": "W6PUJpXQksm1"
      }
    },
    {
      "cell_type": "markdown",
      "source": [
        "# Conclusion\n",
        "Overall, this model seems to be more accurate than before, better placing more land types, but still struggling to place the majority of the same kinds of issues as were seen in the original model. This model would be a better model to use, but comes at the cost of taking more time to process and predict."
      ],
      "metadata": {
        "id": "WePnBXxXmk_g"
      }
    },
    {
      "cell_type": "markdown",
      "source": [
        "# Acquire Data\n"
      ],
      "metadata": {
        "id": "YpFIxya3Owd7"
      }
    },
    {
      "cell_type": "code",
      "source": [
        "df = pd.read_csv('/content/gdrive/MyDrive/MLA_Data/banknote_authentication.csv')"
      ],
      "metadata": {
        "id": "M4k1ZNQcOsxv"
      },
      "execution_count": 61,
      "outputs": []
    },
    {
      "cell_type": "markdown",
      "source": [
        "# Statistics and Visual Exploraiton"
      ],
      "metadata": {
        "id": "1rU5cji-RycM"
      }
    },
    {
      "cell_type": "markdown",
      "source": [
        "This was done in a previous MLA"
      ],
      "metadata": {
        "id": "hBveoQhgR1NH"
      }
    },
    {
      "cell_type": "markdown",
      "source": [
        "# Splitting the Data into Train/Test"
      ],
      "metadata": {
        "id": "-ZHMOE8oR4nE"
      }
    },
    {
      "cell_type": "code",
      "source": [
        "X=df\n",
        "X=X.drop(columns=['forgery'])"
      ],
      "metadata": {
        "id": "8Qm7EPwPSCm0"
      },
      "execution_count": 62,
      "outputs": []
    },
    {
      "cell_type": "code",
      "source": [
        "y=df['forgery']"
      ],
      "metadata": {
        "id": "3KOc1Fc4SG8k"
      },
      "execution_count": 63,
      "outputs": []
    },
    {
      "cell_type": "code",
      "source": [
        "X_train,X_test,y_train,y_test = tts(X,y,test_size=.2,random_state=0)"
      ],
      "metadata": {
        "id": "NOqB_EBqSGtu"
      },
      "execution_count": 64,
      "outputs": []
    },
    {
      "cell_type": "markdown",
      "source": [
        "# Building the Pipeline"
      ],
      "metadata": {
        "id": "aBTELbB8SAfW"
      }
    },
    {
      "cell_type": "code",
      "source": [
        "nums = ['variance','skewness','curtosis','entropy']\n",
        "cats = ['forgery']"
      ],
      "metadata": {
        "id": "2eiPUpanSM1M"
      },
      "execution_count": 65,
      "outputs": []
    },
    {
      "cell_type": "code",
      "source": [
        "col_trans = ctrans(transformers=[('num',mmscal(),nums)], remainder='passthrough')"
      ],
      "metadata": {
        "id": "7ZxvbOA2SPYF"
      },
      "execution_count": 66,
      "outputs": []
    },
    {
      "cell_type": "code",
      "source": [
        "pipeline = plne([('transform',col_trans),('RandomForestClassifier',RandomForestClassifier())])"
      ],
      "metadata": {
        "id": "cnKDfuurPEl7"
      },
      "execution_count": 67,
      "outputs": []
    },
    {
      "cell_type": "code",
      "source": [
        "from sklearn import set_config\n",
        "set_config(display='diagram')\n",
        "pipeline"
      ],
      "metadata": {
        "colab": {
          "base_uri": "https://localhost:8080/",
          "height": 194
        },
        "id": "64Q0c2tSSRFJ",
        "outputId": "b177ec7e-8f48-4f16-f07b-2b50388f91cf"
      },
      "execution_count": 68,
      "outputs": [
        {
          "output_type": "execute_result",
          "data": {
            "text/plain": [
              "Pipeline(steps=[('transform',\n",
              "                 ColumnTransformer(remainder='passthrough',\n",
              "                                   transformers=[('num', MinMaxScaler(),\n",
              "                                                  ['variance', 'skewness',\n",
              "                                                   'curtosis', 'entropy'])])),\n",
              "                ('RandomForestClassifier', RandomForestClassifier())])"
            ],
            "text/html": [
              "<style>#sk-container-id-9 {color: black;background-color: white;}#sk-container-id-9 pre{padding: 0;}#sk-container-id-9 div.sk-toggleable {background-color: white;}#sk-container-id-9 label.sk-toggleable__label {cursor: pointer;display: block;width: 100%;margin-bottom: 0;padding: 0.3em;box-sizing: border-box;text-align: center;}#sk-container-id-9 label.sk-toggleable__label-arrow:before {content: \"▸\";float: left;margin-right: 0.25em;color: #696969;}#sk-container-id-9 label.sk-toggleable__label-arrow:hover:before {color: black;}#sk-container-id-9 div.sk-estimator:hover label.sk-toggleable__label-arrow:before {color: black;}#sk-container-id-9 div.sk-toggleable__content {max-height: 0;max-width: 0;overflow: hidden;text-align: left;background-color: #f0f8ff;}#sk-container-id-9 div.sk-toggleable__content pre {margin: 0.2em;color: black;border-radius: 0.25em;background-color: #f0f8ff;}#sk-container-id-9 input.sk-toggleable__control:checked~div.sk-toggleable__content {max-height: 200px;max-width: 100%;overflow: auto;}#sk-container-id-9 input.sk-toggleable__control:checked~label.sk-toggleable__label-arrow:before {content: \"▾\";}#sk-container-id-9 div.sk-estimator input.sk-toggleable__control:checked~label.sk-toggleable__label {background-color: #d4ebff;}#sk-container-id-9 div.sk-label input.sk-toggleable__control:checked~label.sk-toggleable__label {background-color: #d4ebff;}#sk-container-id-9 input.sk-hidden--visually {border: 0;clip: rect(1px 1px 1px 1px);clip: rect(1px, 1px, 1px, 1px);height: 1px;margin: -1px;overflow: hidden;padding: 0;position: absolute;width: 1px;}#sk-container-id-9 div.sk-estimator {font-family: monospace;background-color: #f0f8ff;border: 1px dotted black;border-radius: 0.25em;box-sizing: border-box;margin-bottom: 0.5em;}#sk-container-id-9 div.sk-estimator:hover {background-color: #d4ebff;}#sk-container-id-9 div.sk-parallel-item::after {content: \"\";width: 100%;border-bottom: 1px solid gray;flex-grow: 1;}#sk-container-id-9 div.sk-label:hover label.sk-toggleable__label {background-color: #d4ebff;}#sk-container-id-9 div.sk-serial::before {content: \"\";position: absolute;border-left: 1px solid gray;box-sizing: border-box;top: 0;bottom: 0;left: 50%;z-index: 0;}#sk-container-id-9 div.sk-serial {display: flex;flex-direction: column;align-items: center;background-color: white;padding-right: 0.2em;padding-left: 0.2em;position: relative;}#sk-container-id-9 div.sk-item {position: relative;z-index: 1;}#sk-container-id-9 div.sk-parallel {display: flex;align-items: stretch;justify-content: center;background-color: white;position: relative;}#sk-container-id-9 div.sk-item::before, #sk-container-id-9 div.sk-parallel-item::before {content: \"\";position: absolute;border-left: 1px solid gray;box-sizing: border-box;top: 0;bottom: 0;left: 50%;z-index: -1;}#sk-container-id-9 div.sk-parallel-item {display: flex;flex-direction: column;z-index: 1;position: relative;background-color: white;}#sk-container-id-9 div.sk-parallel-item:first-child::after {align-self: flex-end;width: 50%;}#sk-container-id-9 div.sk-parallel-item:last-child::after {align-self: flex-start;width: 50%;}#sk-container-id-9 div.sk-parallel-item:only-child::after {width: 0;}#sk-container-id-9 div.sk-dashed-wrapped {border: 1px dashed gray;margin: 0 0.4em 0.5em 0.4em;box-sizing: border-box;padding-bottom: 0.4em;background-color: white;}#sk-container-id-9 div.sk-label label {font-family: monospace;font-weight: bold;display: inline-block;line-height: 1.2em;}#sk-container-id-9 div.sk-label-container {text-align: center;}#sk-container-id-9 div.sk-container {/* jupyter's `normalize.less` sets `[hidden] { display: none; }` but bootstrap.min.css set `[hidden] { display: none !important; }` so we also need the `!important` here to be able to override the default hidden behavior on the sphinx rendered scikit-learn.org. See: https://github.com/scikit-learn/scikit-learn/issues/21755 */display: inline-block !important;position: relative;}#sk-container-id-9 div.sk-text-repr-fallback {display: none;}</style><div id=\"sk-container-id-9\" class=\"sk-top-container\"><div class=\"sk-text-repr-fallback\"><pre>Pipeline(steps=[(&#x27;transform&#x27;,\n",
              "                 ColumnTransformer(remainder=&#x27;passthrough&#x27;,\n",
              "                                   transformers=[(&#x27;num&#x27;, MinMaxScaler(),\n",
              "                                                  [&#x27;variance&#x27;, &#x27;skewness&#x27;,\n",
              "                                                   &#x27;curtosis&#x27;, &#x27;entropy&#x27;])])),\n",
              "                (&#x27;RandomForestClassifier&#x27;, RandomForestClassifier())])</pre><b>In a Jupyter environment, please rerun this cell to show the HTML representation or trust the notebook. <br />On GitHub, the HTML representation is unable to render, please try loading this page with nbviewer.org.</b></div><div class=\"sk-container\" hidden><div class=\"sk-item sk-dashed-wrapped\"><div class=\"sk-label-container\"><div class=\"sk-label sk-toggleable\"><input class=\"sk-toggleable__control sk-hidden--visually\" id=\"sk-estimator-id-63\" type=\"checkbox\" ><label for=\"sk-estimator-id-63\" class=\"sk-toggleable__label sk-toggleable__label-arrow\">Pipeline</label><div class=\"sk-toggleable__content\"><pre>Pipeline(steps=[(&#x27;transform&#x27;,\n",
              "                 ColumnTransformer(remainder=&#x27;passthrough&#x27;,\n",
              "                                   transformers=[(&#x27;num&#x27;, MinMaxScaler(),\n",
              "                                                  [&#x27;variance&#x27;, &#x27;skewness&#x27;,\n",
              "                                                   &#x27;curtosis&#x27;, &#x27;entropy&#x27;])])),\n",
              "                (&#x27;RandomForestClassifier&#x27;, RandomForestClassifier())])</pre></div></div></div><div class=\"sk-serial\"><div class=\"sk-item sk-dashed-wrapped\"><div class=\"sk-label-container\"><div class=\"sk-label sk-toggleable\"><input class=\"sk-toggleable__control sk-hidden--visually\" id=\"sk-estimator-id-64\" type=\"checkbox\" ><label for=\"sk-estimator-id-64\" class=\"sk-toggleable__label sk-toggleable__label-arrow\">transform: ColumnTransformer</label><div class=\"sk-toggleable__content\"><pre>ColumnTransformer(remainder=&#x27;passthrough&#x27;,\n",
              "                  transformers=[(&#x27;num&#x27;, MinMaxScaler(),\n",
              "                                 [&#x27;variance&#x27;, &#x27;skewness&#x27;, &#x27;curtosis&#x27;,\n",
              "                                  &#x27;entropy&#x27;])])</pre></div></div></div><div class=\"sk-parallel\"><div class=\"sk-parallel-item\"><div class=\"sk-item\"><div class=\"sk-label-container\"><div class=\"sk-label sk-toggleable\"><input class=\"sk-toggleable__control sk-hidden--visually\" id=\"sk-estimator-id-65\" type=\"checkbox\" ><label for=\"sk-estimator-id-65\" class=\"sk-toggleable__label sk-toggleable__label-arrow\">num</label><div class=\"sk-toggleable__content\"><pre>[&#x27;variance&#x27;, &#x27;skewness&#x27;, &#x27;curtosis&#x27;, &#x27;entropy&#x27;]</pre></div></div></div><div class=\"sk-serial\"><div class=\"sk-item\"><div class=\"sk-estimator sk-toggleable\"><input class=\"sk-toggleable__control sk-hidden--visually\" id=\"sk-estimator-id-66\" type=\"checkbox\" ><label for=\"sk-estimator-id-66\" class=\"sk-toggleable__label sk-toggleable__label-arrow\">MinMaxScaler</label><div class=\"sk-toggleable__content\"><pre>MinMaxScaler()</pre></div></div></div></div></div></div><div class=\"sk-parallel-item\"><div class=\"sk-item\"><div class=\"sk-label-container\"><div class=\"sk-label sk-toggleable\"><input class=\"sk-toggleable__control sk-hidden--visually\" id=\"sk-estimator-id-67\" type=\"checkbox\" ><label for=\"sk-estimator-id-67\" class=\"sk-toggleable__label sk-toggleable__label-arrow\">remainder</label><div class=\"sk-toggleable__content\"><pre></pre></div></div></div><div class=\"sk-serial\"><div class=\"sk-item\"><div class=\"sk-estimator sk-toggleable\"><input class=\"sk-toggleable__control sk-hidden--visually\" id=\"sk-estimator-id-68\" type=\"checkbox\" ><label for=\"sk-estimator-id-68\" class=\"sk-toggleable__label sk-toggleable__label-arrow\">passthrough</label><div class=\"sk-toggleable__content\"><pre>passthrough</pre></div></div></div></div></div></div></div></div><div class=\"sk-item\"><div class=\"sk-estimator sk-toggleable\"><input class=\"sk-toggleable__control sk-hidden--visually\" id=\"sk-estimator-id-69\" type=\"checkbox\" ><label for=\"sk-estimator-id-69\" class=\"sk-toggleable__label sk-toggleable__label-arrow\">RandomForestClassifier</label><div class=\"sk-toggleable__content\"><pre>RandomForestClassifier()</pre></div></div></div></div></div></div></div>"
            ]
          },
          "metadata": {},
          "execution_count": 68
        }
      ]
    },
    {
      "cell_type": "markdown",
      "source": [
        "# Executing the Model"
      ],
      "metadata": {
        "id": "I5bz4K96SS0I"
      }
    },
    {
      "cell_type": "code",
      "source": [
        "pipeline.fit(X_train,y_train)"
      ],
      "metadata": {
        "colab": {
          "base_uri": "https://localhost:8080/",
          "height": 194
        },
        "id": "X0TeHnKXSRu8",
        "outputId": "c8350146-78a7-4b36-e3e4-a08697638ea8"
      },
      "execution_count": 69,
      "outputs": [
        {
          "output_type": "execute_result",
          "data": {
            "text/plain": [
              "Pipeline(steps=[('transform',\n",
              "                 ColumnTransformer(remainder='passthrough',\n",
              "                                   transformers=[('num', MinMaxScaler(),\n",
              "                                                  ['variance', 'skewness',\n",
              "                                                   'curtosis', 'entropy'])])),\n",
              "                ('RandomForestClassifier', RandomForestClassifier())])"
            ],
            "text/html": [
              "<style>#sk-container-id-10 {color: black;background-color: white;}#sk-container-id-10 pre{padding: 0;}#sk-container-id-10 div.sk-toggleable {background-color: white;}#sk-container-id-10 label.sk-toggleable__label {cursor: pointer;display: block;width: 100%;margin-bottom: 0;padding: 0.3em;box-sizing: border-box;text-align: center;}#sk-container-id-10 label.sk-toggleable__label-arrow:before {content: \"▸\";float: left;margin-right: 0.25em;color: #696969;}#sk-container-id-10 label.sk-toggleable__label-arrow:hover:before {color: black;}#sk-container-id-10 div.sk-estimator:hover label.sk-toggleable__label-arrow:before {color: black;}#sk-container-id-10 div.sk-toggleable__content {max-height: 0;max-width: 0;overflow: hidden;text-align: left;background-color: #f0f8ff;}#sk-container-id-10 div.sk-toggleable__content pre {margin: 0.2em;color: black;border-radius: 0.25em;background-color: #f0f8ff;}#sk-container-id-10 input.sk-toggleable__control:checked~div.sk-toggleable__content {max-height: 200px;max-width: 100%;overflow: auto;}#sk-container-id-10 input.sk-toggleable__control:checked~label.sk-toggleable__label-arrow:before {content: \"▾\";}#sk-container-id-10 div.sk-estimator input.sk-toggleable__control:checked~label.sk-toggleable__label {background-color: #d4ebff;}#sk-container-id-10 div.sk-label input.sk-toggleable__control:checked~label.sk-toggleable__label {background-color: #d4ebff;}#sk-container-id-10 input.sk-hidden--visually {border: 0;clip: rect(1px 1px 1px 1px);clip: rect(1px, 1px, 1px, 1px);height: 1px;margin: -1px;overflow: hidden;padding: 0;position: absolute;width: 1px;}#sk-container-id-10 div.sk-estimator {font-family: monospace;background-color: #f0f8ff;border: 1px dotted black;border-radius: 0.25em;box-sizing: border-box;margin-bottom: 0.5em;}#sk-container-id-10 div.sk-estimator:hover {background-color: #d4ebff;}#sk-container-id-10 div.sk-parallel-item::after {content: \"\";width: 100%;border-bottom: 1px solid gray;flex-grow: 1;}#sk-container-id-10 div.sk-label:hover label.sk-toggleable__label {background-color: #d4ebff;}#sk-container-id-10 div.sk-serial::before {content: \"\";position: absolute;border-left: 1px solid gray;box-sizing: border-box;top: 0;bottom: 0;left: 50%;z-index: 0;}#sk-container-id-10 div.sk-serial {display: flex;flex-direction: column;align-items: center;background-color: white;padding-right: 0.2em;padding-left: 0.2em;position: relative;}#sk-container-id-10 div.sk-item {position: relative;z-index: 1;}#sk-container-id-10 div.sk-parallel {display: flex;align-items: stretch;justify-content: center;background-color: white;position: relative;}#sk-container-id-10 div.sk-item::before, #sk-container-id-10 div.sk-parallel-item::before {content: \"\";position: absolute;border-left: 1px solid gray;box-sizing: border-box;top: 0;bottom: 0;left: 50%;z-index: -1;}#sk-container-id-10 div.sk-parallel-item {display: flex;flex-direction: column;z-index: 1;position: relative;background-color: white;}#sk-container-id-10 div.sk-parallel-item:first-child::after {align-self: flex-end;width: 50%;}#sk-container-id-10 div.sk-parallel-item:last-child::after {align-self: flex-start;width: 50%;}#sk-container-id-10 div.sk-parallel-item:only-child::after {width: 0;}#sk-container-id-10 div.sk-dashed-wrapped {border: 1px dashed gray;margin: 0 0.4em 0.5em 0.4em;box-sizing: border-box;padding-bottom: 0.4em;background-color: white;}#sk-container-id-10 div.sk-label label {font-family: monospace;font-weight: bold;display: inline-block;line-height: 1.2em;}#sk-container-id-10 div.sk-label-container {text-align: center;}#sk-container-id-10 div.sk-container {/* jupyter's `normalize.less` sets `[hidden] { display: none; }` but bootstrap.min.css set `[hidden] { display: none !important; }` so we also need the `!important` here to be able to override the default hidden behavior on the sphinx rendered scikit-learn.org. See: https://github.com/scikit-learn/scikit-learn/issues/21755 */display: inline-block !important;position: relative;}#sk-container-id-10 div.sk-text-repr-fallback {display: none;}</style><div id=\"sk-container-id-10\" class=\"sk-top-container\"><div class=\"sk-text-repr-fallback\"><pre>Pipeline(steps=[(&#x27;transform&#x27;,\n",
              "                 ColumnTransformer(remainder=&#x27;passthrough&#x27;,\n",
              "                                   transformers=[(&#x27;num&#x27;, MinMaxScaler(),\n",
              "                                                  [&#x27;variance&#x27;, &#x27;skewness&#x27;,\n",
              "                                                   &#x27;curtosis&#x27;, &#x27;entropy&#x27;])])),\n",
              "                (&#x27;RandomForestClassifier&#x27;, RandomForestClassifier())])</pre><b>In a Jupyter environment, please rerun this cell to show the HTML representation or trust the notebook. <br />On GitHub, the HTML representation is unable to render, please try loading this page with nbviewer.org.</b></div><div class=\"sk-container\" hidden><div class=\"sk-item sk-dashed-wrapped\"><div class=\"sk-label-container\"><div class=\"sk-label sk-toggleable\"><input class=\"sk-toggleable__control sk-hidden--visually\" id=\"sk-estimator-id-70\" type=\"checkbox\" ><label for=\"sk-estimator-id-70\" class=\"sk-toggleable__label sk-toggleable__label-arrow\">Pipeline</label><div class=\"sk-toggleable__content\"><pre>Pipeline(steps=[(&#x27;transform&#x27;,\n",
              "                 ColumnTransformer(remainder=&#x27;passthrough&#x27;,\n",
              "                                   transformers=[(&#x27;num&#x27;, MinMaxScaler(),\n",
              "                                                  [&#x27;variance&#x27;, &#x27;skewness&#x27;,\n",
              "                                                   &#x27;curtosis&#x27;, &#x27;entropy&#x27;])])),\n",
              "                (&#x27;RandomForestClassifier&#x27;, RandomForestClassifier())])</pre></div></div></div><div class=\"sk-serial\"><div class=\"sk-item sk-dashed-wrapped\"><div class=\"sk-label-container\"><div class=\"sk-label sk-toggleable\"><input class=\"sk-toggleable__control sk-hidden--visually\" id=\"sk-estimator-id-71\" type=\"checkbox\" ><label for=\"sk-estimator-id-71\" class=\"sk-toggleable__label sk-toggleable__label-arrow\">transform: ColumnTransformer</label><div class=\"sk-toggleable__content\"><pre>ColumnTransformer(remainder=&#x27;passthrough&#x27;,\n",
              "                  transformers=[(&#x27;num&#x27;, MinMaxScaler(),\n",
              "                                 [&#x27;variance&#x27;, &#x27;skewness&#x27;, &#x27;curtosis&#x27;,\n",
              "                                  &#x27;entropy&#x27;])])</pre></div></div></div><div class=\"sk-parallel\"><div class=\"sk-parallel-item\"><div class=\"sk-item\"><div class=\"sk-label-container\"><div class=\"sk-label sk-toggleable\"><input class=\"sk-toggleable__control sk-hidden--visually\" id=\"sk-estimator-id-72\" type=\"checkbox\" ><label for=\"sk-estimator-id-72\" class=\"sk-toggleable__label sk-toggleable__label-arrow\">num</label><div class=\"sk-toggleable__content\"><pre>[&#x27;variance&#x27;, &#x27;skewness&#x27;, &#x27;curtosis&#x27;, &#x27;entropy&#x27;]</pre></div></div></div><div class=\"sk-serial\"><div class=\"sk-item\"><div class=\"sk-estimator sk-toggleable\"><input class=\"sk-toggleable__control sk-hidden--visually\" id=\"sk-estimator-id-73\" type=\"checkbox\" ><label for=\"sk-estimator-id-73\" class=\"sk-toggleable__label sk-toggleable__label-arrow\">MinMaxScaler</label><div class=\"sk-toggleable__content\"><pre>MinMaxScaler()</pre></div></div></div></div></div></div><div class=\"sk-parallel-item\"><div class=\"sk-item\"><div class=\"sk-label-container\"><div class=\"sk-label sk-toggleable\"><input class=\"sk-toggleable__control sk-hidden--visually\" id=\"sk-estimator-id-74\" type=\"checkbox\" ><label for=\"sk-estimator-id-74\" class=\"sk-toggleable__label sk-toggleable__label-arrow\">remainder</label><div class=\"sk-toggleable__content\"><pre>[]</pre></div></div></div><div class=\"sk-serial\"><div class=\"sk-item\"><div class=\"sk-estimator sk-toggleable\"><input class=\"sk-toggleable__control sk-hidden--visually\" id=\"sk-estimator-id-75\" type=\"checkbox\" ><label for=\"sk-estimator-id-75\" class=\"sk-toggleable__label sk-toggleable__label-arrow\">passthrough</label><div class=\"sk-toggleable__content\"><pre>passthrough</pre></div></div></div></div></div></div></div></div><div class=\"sk-item\"><div class=\"sk-estimator sk-toggleable\"><input class=\"sk-toggleable__control sk-hidden--visually\" id=\"sk-estimator-id-76\" type=\"checkbox\" ><label for=\"sk-estimator-id-76\" class=\"sk-toggleable__label sk-toggleable__label-arrow\">RandomForestClassifier</label><div class=\"sk-toggleable__content\"><pre>RandomForestClassifier()</pre></div></div></div></div></div></div></div>"
            ]
          },
          "metadata": {},
          "execution_count": 69
        }
      ]
    },
    {
      "cell_type": "markdown",
      "source": [
        "# Evaluating the Model"
      ],
      "metadata": {
        "id": "jy2hB18vSmJP"
      }
    },
    {
      "cell_type": "code",
      "source": [
        "y_pred = pipeline.predict(X_test)"
      ],
      "metadata": {
        "id": "3ZsSyf8jSXn-"
      },
      "execution_count": 70,
      "outputs": []
    },
    {
      "cell_type": "code",
      "source": [
        "classification_report(y_test,y_pred)"
      ],
      "metadata": {
        "colab": {
          "base_uri": "https://localhost:8080/",
          "height": 53
        },
        "id": "h3iM6d8gSqJa",
        "outputId": "9c98bdef-6a77-41c8-bc33-59afbb8d5486"
      },
      "execution_count": 71,
      "outputs": [
        {
          "output_type": "execute_result",
          "data": {
            "text/plain": [
              "'              precision    recall  f1-score   support\\n\\n           0       0.99      0.99      0.99       157\\n           1       0.98      0.99      0.99       118\\n\\n    accuracy                           0.99       275\\n   macro avg       0.99      0.99      0.99       275\\nweighted avg       0.99      0.99      0.99       275\\n'"
            ],
            "application/vnd.google.colaboratory.intrinsic+json": {
              "type": "string"
            }
          },
          "metadata": {},
          "execution_count": 71
        }
      ]
    },
    {
      "cell_type": "code",
      "source": [
        "ConfusionMatrixDisplay.from_predictions(y_test,y_pred)"
      ],
      "metadata": {
        "colab": {
          "base_uri": "https://localhost:8080/",
          "height": 466
        },
        "id": "4jcp61uAStVN",
        "outputId": "27f7b3a3-8a11-4f76-c6d2-0f7881f3b0b1"
      },
      "execution_count": 72,
      "outputs": [
        {
          "output_type": "execute_result",
          "data": {
            "text/plain": [
              "<sklearn.metrics._plot.confusion_matrix.ConfusionMatrixDisplay at 0x78193228fc10>"
            ]
          },
          "metadata": {},
          "execution_count": 72
        },
        {
          "output_type": "display_data",
          "data": {
            "text/plain": [
              "<Figure size 640x480 with 2 Axes>"
            ],
            "image/png": "[encoded data removed]"
          },
          "metadata": {}
        }
      ]
    },
    {
      "cell_type": "markdown",
      "source": [
        "The above results indicate a very very good model. This model has approximately 99% accuracy, and has an incredibly good record, with only 3 incorrect predictions for the data."
      ],
      "metadata": {
        "id": "E9DY2li5SwtE"
      }
    },
    {
      "cell_type": "markdown",
      "source": [
        "# Conclusion"
      ],
      "metadata": {
        "id": "7AMMjbIuTA9c"
      }
    },
    {
      "cell_type": "markdown",
      "source": [
        "This model is very accurate for predicting forgeries, within our training data, it has a ~99% F1 score, and only 3 failures, making it nearly perfect. This simply means that the model is very accurate at predicting forgeries and does not have issues with falso positives or false negatives either."
      ],
      "metadata": {
        "id": "M1DjWre1TBW3"
      }
    },
    {
      "cell_type": "code",
      "source": [],
      "metadata": {
        "id": "i1UxUQHpSt1K"
      },
      "execution_count": null,
      "outputs": []
    }
  ]
}